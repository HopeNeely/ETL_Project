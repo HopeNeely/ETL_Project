{
 "cells": [
  {
   "cell_type": "code",
   "execution_count": 20,
   "metadata": {},
   "outputs": [],
   "source": [
    "import psycopg2 as pg2\n",
    "import pandas as pd\n",
    "from sqlalchemy import create_engine\n",
    "import os\n",
    "from config import api_key"
   ]
  },
  {
   "cell_type": "code",
   "execution_count": 21,
   "metadata": {},
   "outputs": [],
   "source": [
    "#Create connection with PostgreSQL\n",
    "conn = pg2.connect(database='Wines',user='postgres', password=api_key)\n",
    "\n",
    "#Establish connection and start cursor to be ready to query\n",
    "cur = conn.cursor()"
   ]
  },
  {
   "cell_type": "code",
   "execution_count": 22,
   "metadata": {},
   "outputs": [
    {
     "data": {
      "text/plain": [
       "('1/1/1919',\n",
       " 'Spain',\n",
       " 'Cava',\n",
       " '1919 Brut Selecció',\n",
       " 88,\n",
       " '$13.00 ',\n",
       " 'Catalonia',\n",
       " \"L'Arboc NV 1919 Brut Selecció Sparkling (Cava)\",\n",
       " 'Sparkling Blend',\n",
       " \"L'Arboc\")"
      ]
     },
     "execution_count": 22,
     "metadata": {},
     "output_type": "execute_result"
    }
   ],
   "source": [
    "#Pass in a query as a string\n",
    "cur.execute(\"SELECT * FROM wine_info\")\n",
    "\n",
    "#Show results of first row\n",
    "cur.fetchone()"
   ]
  },
  {
   "cell_type": "code",
   "execution_count": 23,
   "metadata": {},
   "outputs": [
    {
     "data": {
      "text/html": [
       "<div>\n",
       "<style scoped>\n",
       "    .dataframe tbody tr th:only-of-type {\n",
       "        vertical-align: middle;\n",
       "    }\n",
       "\n",
       "    .dataframe tbody tr th {\n",
       "        vertical-align: top;\n",
       "    }\n",
       "\n",
       "    .dataframe thead th {\n",
       "        text-align: right;\n",
       "    }\n",
       "</style>\n",
       "<table border=\"1\" class=\"dataframe\">\n",
       "  <thead>\n",
       "    <tr style=\"text-align: right;\">\n",
       "      <th></th>\n",
       "      <th>vintage</th>\n",
       "      <th>country</th>\n",
       "      <th>county</th>\n",
       "      <th>designation</th>\n",
       "      <th>points</th>\n",
       "      <th>price</th>\n",
       "      <th>province</th>\n",
       "      <th>title</th>\n",
       "      <th>variety</th>\n",
       "      <th>winery</th>\n",
       "    </tr>\n",
       "  </thead>\n",
       "  <tbody>\n",
       "    <tr>\n",
       "      <th>0</th>\n",
       "      <td>1/1/1919</td>\n",
       "      <td>Spain</td>\n",
       "      <td>Cava</td>\n",
       "      <td>1919 Brut Selecció</td>\n",
       "      <td>88</td>\n",
       "      <td>$13.00</td>\n",
       "      <td>Catalonia</td>\n",
       "      <td>L'Arboc NV 1919 Brut Selecció Sparkling (Cava)</td>\n",
       "      <td>Sparkling Blend</td>\n",
       "      <td>L'Arboc</td>\n",
       "    </tr>\n",
       "    <tr>\n",
       "      <th>1</th>\n",
       "      <td>1/1/1929</td>\n",
       "      <td>Italy</td>\n",
       "      <td>Vernaccia di San Gimignano</td>\n",
       "      <td>None</td>\n",
       "      <td>87</td>\n",
       "      <td>$14.00</td>\n",
       "      <td>Tuscany</td>\n",
       "      <td>Guidi 1929 2015 Vernaccia di San Gimignano</td>\n",
       "      <td>Vernaccia</td>\n",
       "      <td>Guidi 1929</td>\n",
       "    </tr>\n",
       "    <tr>\n",
       "      <th>2</th>\n",
       "      <td>1/1/1929</td>\n",
       "      <td>Italy</td>\n",
       "      <td>Sangiovese di Romagna Superiore</td>\n",
       "      <td>Prugneto</td>\n",
       "      <td>84</td>\n",
       "      <td>$15.00</td>\n",
       "      <td>Central Italy</td>\n",
       "      <td>Poderi dal Nespoli 1929 2011 Prugneto (Sangiov...</td>\n",
       "      <td>Sangiovese</td>\n",
       "      <td>Poderi dal Nespoli 1929</td>\n",
       "    </tr>\n",
       "    <tr>\n",
       "      <th>3</th>\n",
       "      <td>1/1/1934</td>\n",
       "      <td>Portugal</td>\n",
       "      <td>None</td>\n",
       "      <td>Reserva Velho</td>\n",
       "      <td>93</td>\n",
       "      <td>$495.00</td>\n",
       "      <td>Colares</td>\n",
       "      <td>Adega Viuva Gomes 1934 Reserva Velho Red (Cola...</td>\n",
       "      <td>Ramisco</td>\n",
       "      <td>Adega Viuva Gomes</td>\n",
       "    </tr>\n",
       "    <tr>\n",
       "      <th>4</th>\n",
       "      <td>1/1/1945</td>\n",
       "      <td>France</td>\n",
       "      <td>Rivesaltes</td>\n",
       "      <td>Legend Vintage</td>\n",
       "      <td>95</td>\n",
       "      <td>$350.00</td>\n",
       "      <td>Languedoc-Roussillon</td>\n",
       "      <td>Gérard Bertrand 1945 Legend Vintage Red (Rives...</td>\n",
       "      <td>Red Blend</td>\n",
       "      <td>Gérard Bertrand</td>\n",
       "    </tr>\n",
       "  </tbody>\n",
       "</table>\n",
       "</div>"
      ],
      "text/plain": [
       "    vintage   country                           county         designation  \\\n",
       "0  1/1/1919     Spain                             Cava  1919 Brut Selecció   \n",
       "1  1/1/1929     Italy       Vernaccia di San Gimignano                None   \n",
       "2  1/1/1929     Italy  Sangiovese di Romagna Superiore            Prugneto   \n",
       "3  1/1/1934  Portugal                             None       Reserva Velho   \n",
       "4  1/1/1945    France                       Rivesaltes      Legend Vintage   \n",
       "\n",
       "   points     price              province  \\\n",
       "0      88   $13.00              Catalonia   \n",
       "1      87   $14.00                Tuscany   \n",
       "2      84   $15.00          Central Italy   \n",
       "3      93  $495.00                Colares   \n",
       "4      95  $350.00   Languedoc-Roussillon   \n",
       "\n",
       "                                               title          variety  \\\n",
       "0     L'Arboc NV 1919 Brut Selecció Sparkling (Cava)  Sparkling Blend   \n",
       "1         Guidi 1929 2015 Vernaccia di San Gimignano        Vernaccia   \n",
       "2  Poderi dal Nespoli 1929 2011 Prugneto (Sangiov...       Sangiovese   \n",
       "3  Adega Viuva Gomes 1934 Reserva Velho Red (Cola...          Ramisco   \n",
       "4  Gérard Bertrand 1945 Legend Vintage Red (Rives...        Red Blend   \n",
       "\n",
       "                    winery  \n",
       "0                  L'Arboc  \n",
       "1               Guidi 1929  \n",
       "2  Poderi dal Nespoli 1929  \n",
       "3        Adega Viuva Gomes  \n",
       "4          Gérard Bertrand  "
      ]
     },
     "execution_count": 23,
     "metadata": {},
     "output_type": "execute_result"
    }
   ],
   "source": [
    "#Pulling the wanted data\n",
    "Salaries = pd.read_sql(\"SELECT * FROM wine_info\", conn)\n",
    "\n",
    "#Show results\n",
    "Salaries.head()"
   ]
  },
  {
   "cell_type": "code",
   "execution_count": 24,
   "metadata": {},
   "outputs": [
    {
     "data": {
      "text/plain": [
       "('ARIZONA', '65,413', '0', '0')"
      ]
     },
     "execution_count": 24,
     "metadata": {},
     "output_type": "execute_result"
    }
   ],
   "source": [
    "#Pass in a query as a string\n",
    "cur.execute(\"SELECT * FROM wines_by_state_seven\")\n",
    "\n",
    "#Show results of first row\n",
    "cur.fetchone()"
   ]
  },
  {
   "cell_type": "code",
   "execution_count": 25,
   "metadata": {},
   "outputs": [
    {
     "data": {
      "text/html": [
       "<div>\n",
       "<style scoped>\n",
       "    .dataframe tbody tr th:only-of-type {\n",
       "        vertical-align: middle;\n",
       "    }\n",
       "\n",
       "    .dataframe tbody tr th {\n",
       "        vertical-align: top;\n",
       "    }\n",
       "\n",
       "    .dataframe thead th {\n",
       "        text-align: right;\n",
       "    }\n",
       "</style>\n",
       "<table border=\"1\" class=\"dataframe\">\n",
       "  <thead>\n",
       "    <tr style=\"text-align: right;\">\n",
       "      <th></th>\n",
       "      <th>usstate</th>\n",
       "      <th>wines</th>\n",
       "      <th>specialwines</th>\n",
       "      <th>specialwinestaxable</th>\n",
       "    </tr>\n",
       "  </thead>\n",
       "  <tbody>\n",
       "    <tr>\n",
       "      <th>0</th>\n",
       "      <td>ARIZONA</td>\n",
       "      <td>65,413</td>\n",
       "      <td>0</td>\n",
       "      <td>0</td>\n",
       "    </tr>\n",
       "    <tr>\n",
       "      <th>1</th>\n",
       "      <td>CALIFORNIA</td>\n",
       "      <td>568,801,873</td>\n",
       "      <td>794158</td>\n",
       "      <td>171939</td>\n",
       "    </tr>\n",
       "    <tr>\n",
       "      <th>2</th>\n",
       "      <td>COLORADO</td>\n",
       "      <td>221,258</td>\n",
       "      <td>0</td>\n",
       "      <td>0</td>\n",
       "    </tr>\n",
       "    <tr>\n",
       "      <th>3</th>\n",
       "      <td>CONNECTICUT</td>\n",
       "      <td>110,484</td>\n",
       "      <td>0</td>\n",
       "      <td>0</td>\n",
       "    </tr>\n",
       "    <tr>\n",
       "      <th>4</th>\n",
       "      <td>FLORIDA</td>\n",
       "      <td>1,610,275</td>\n",
       "      <td>0</td>\n",
       "      <td>0</td>\n",
       "    </tr>\n",
       "  </tbody>\n",
       "</table>\n",
       "</div>"
      ],
      "text/plain": [
       "       usstate        wines specialwines specialwinestaxable\n",
       "0      ARIZONA       65,413            0                   0\n",
       "1   CALIFORNIA  568,801,873       794158              171939\n",
       "2     COLORADO      221,258            0                   0\n",
       "3  CONNECTICUT      110,484            0                   0\n",
       "4      FLORIDA    1,610,275            0                   0"
      ]
     },
     "execution_count": 25,
     "metadata": {},
     "output_type": "execute_result"
    }
   ],
   "source": [
    "#Pulling the wanted data\n",
    "Salaries = pd.read_sql(\"SELECT * FROM wines_by_state_seven\", conn)\n",
    "\n",
    "#Show results\n",
    "Salaries.head()"
   ]
  },
  {
   "cell_type": "code",
   "execution_count": 26,
   "metadata": {},
   "outputs": [
    {
     "data": {
      "text/plain": [
       "('ALABAMA', '42,656', '0', '0')"
      ]
     },
     "execution_count": 26,
     "metadata": {},
     "output_type": "execute_result"
    }
   ],
   "source": [
    "#Pass in a query as a string\n",
    "cur.execute(\"SELECT * FROM wines_by_state_fifteen\")\n",
    "\n",
    "#Show results of first row\n",
    "cur.fetchone()"
   ]
  },
  {
   "cell_type": "code",
   "execution_count": 27,
   "metadata": {},
   "outputs": [
    {
     "data": {
      "text/html": [
       "<div>\n",
       "<style scoped>\n",
       "    .dataframe tbody tr th:only-of-type {\n",
       "        vertical-align: middle;\n",
       "    }\n",
       "\n",
       "    .dataframe tbody tr th {\n",
       "        vertical-align: top;\n",
       "    }\n",
       "\n",
       "    .dataframe thead th {\n",
       "        text-align: right;\n",
       "    }\n",
       "</style>\n",
       "<table border=\"1\" class=\"dataframe\">\n",
       "  <thead>\n",
       "    <tr style=\"text-align: right;\">\n",
       "      <th></th>\n",
       "      <th>usstate</th>\n",
       "      <th>wines</th>\n",
       "      <th>specialwines</th>\n",
       "      <th>specialwinestaxable</th>\n",
       "    </tr>\n",
       "  </thead>\n",
       "  <tbody>\n",
       "    <tr>\n",
       "      <th>0</th>\n",
       "      <td>ALABAMA</td>\n",
       "      <td>42,656</td>\n",
       "      <td>0</td>\n",
       "      <td>0</td>\n",
       "    </tr>\n",
       "    <tr>\n",
       "      <th>1</th>\n",
       "      <td>ARIZONA</td>\n",
       "      <td>198,746</td>\n",
       "      <td>5,050</td>\n",
       "      <td>2,133</td>\n",
       "    </tr>\n",
       "    <tr>\n",
       "      <th>2</th>\n",
       "      <td>ARKANSAS</td>\n",
       "      <td>203,701</td>\n",
       "      <td>0</td>\n",
       "      <td>0</td>\n",
       "    </tr>\n",
       "    <tr>\n",
       "      <th>3</th>\n",
       "      <td>CALIFORNIA</td>\n",
       "      <td>638,173,762</td>\n",
       "      <td>844,056</td>\n",
       "      <td>158,470</td>\n",
       "    </tr>\n",
       "    <tr>\n",
       "      <th>4</th>\n",
       "      <td>COLORADO</td>\n",
       "      <td>449,679</td>\n",
       "      <td>0</td>\n",
       "      <td>0</td>\n",
       "    </tr>\n",
       "  </tbody>\n",
       "</table>\n",
       "</div>"
      ],
      "text/plain": [
       "      usstate        wines specialwines specialwinestaxable\n",
       "0     ALABAMA       42,656            0                   0\n",
       "1     ARIZONA      198,746        5,050               2,133\n",
       "2    ARKANSAS      203,701            0                   0\n",
       "3  CALIFORNIA  638,173,762      844,056             158,470\n",
       "4    COLORADO      449,679            0                   0"
      ]
     },
     "execution_count": 27,
     "metadata": {},
     "output_type": "execute_result"
    }
   ],
   "source": [
    "#Pulling the wanted data\n",
    "Salaries = pd.read_sql(\"SELECT * FROM wines_by_state_fifteen\", conn)\n",
    "\n",
    "#Show results\n",
    "Salaries.head()"
   ]
  },
  {
   "cell_type": "code",
   "execution_count": null,
   "metadata": {},
   "outputs": [],
   "source": []
  },
  {
   "cell_type": "markdown",
   "metadata": {},
   "source": [
    "###  Connect to local database"
   ]
  },
  {
   "cell_type": "markdown",
   "metadata": {},
   "source": [
    "###  Check for tables"
   ]
  },
  {
   "cell_type": "markdown",
   "metadata": {},
   "source": [
    "### Use pandas to load csv converted DataFrame into database"
   ]
  },
  {
   "cell_type": "markdown",
   "metadata": {},
   "source": [
    "### Confirm data has been added by querying the wines table"
   ]
  }
 ],
 "metadata": {
  "kernelspec": {
   "display_name": "Python [conda env:PythonData]",
   "language": "python",
   "name": "conda-env-PythonData-py"
  },
  "language_info": {
   "codemirror_mode": {
    "name": "ipython",
    "version": 3
   },
   "file_extension": ".py",
   "mimetype": "text/x-python",
   "name": "python",
   "nbconvert_exporter": "python",
   "pygments_lexer": "ipython3",
   "version": "3.6.10"
  }
 },
 "nbformat": 4,
 "nbformat_minor": 4
}
