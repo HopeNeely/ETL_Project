{
 "cells": [
  {
   "cell_type": "code",
   "execution_count": 58,
   "metadata": {},
   "outputs": [
    {
     "name": "stdout",
     "output_type": "stream",
     "text": [
      "Requirement already satisfied: openpyxl in c:\\users\\carmi\\anaconda3\\envs\\pythondata\\lib\\site-packages (3.0.6)\n",
      "Requirement already satisfied: jdcal in c:\\users\\carmi\\anaconda3\\envs\\pythondata\\lib\\site-packages (from openpyxl) (1.4.1)\n",
      "Requirement already satisfied: et-xmlfile in c:\\users\\carmi\\anaconda3\\envs\\pythondata\\lib\\site-packages (from openpyxl) (1.0.1)\n"
     ]
    }
   ],
   "source": [
    "!pip install openpyxl"
   ]
  },
  {
   "cell_type": "code",
   "execution_count": 59,
   "metadata": {},
   "outputs": [],
   "source": [
    "import psycopg2 as pg2\n",
    "import pandas as pd\n",
    "from sqlalchemy import create_engine\n",
    "import os\n",
    "from config import api_key"
   ]
  },
  {
   "cell_type": "code",
   "execution_count": 62,
   "metadata": {},
   "outputs": [
    {
     "data": {
      "text/html": [
       "<div>\n",
       "<style scoped>\n",
       "    .dataframe tbody tr th:only-of-type {\n",
       "        vertical-align: middle;\n",
       "    }\n",
       "\n",
       "    .dataframe tbody tr th {\n",
       "        vertical-align: top;\n",
       "    }\n",
       "\n",
       "    .dataframe thead th {\n",
       "        text-align: right;\n",
       "    }\n",
       "</style>\n",
       "<table border=\"1\" class=\"dataframe\">\n",
       "  <thead>\n",
       "    <tr style=\"text-align: right;\">\n",
       "      <th></th>\n",
       "      <th>Vintage</th>\n",
       "      <th>Country</th>\n",
       "      <th>County</th>\n",
       "      <th>Designation</th>\n",
       "      <th>Points</th>\n",
       "      <th>Price</th>\n",
       "      <th>Province</th>\n",
       "      <th>Title</th>\n",
       "      <th>Variety</th>\n",
       "      <th>Winery</th>\n",
       "    </tr>\n",
       "  </thead>\n",
       "  <tbody>\n",
       "    <tr>\n",
       "      <th>0</th>\n",
       "      <td>1919-01-01 00:00:00</td>\n",
       "      <td>Spain</td>\n",
       "      <td>Cava</td>\n",
       "      <td>1919 Brut Selecció</td>\n",
       "      <td>88</td>\n",
       "      <td>$13.00</td>\n",
       "      <td>Catalonia</td>\n",
       "      <td>L'Arboc NV 1919 Brut Selecció Sparkling (Cava)</td>\n",
       "      <td>Sparkling Blend</td>\n",
       "      <td>L'Arboc</td>\n",
       "    </tr>\n",
       "    <tr>\n",
       "      <th>1</th>\n",
       "      <td>1929-01-01 00:00:00</td>\n",
       "      <td>Italy</td>\n",
       "      <td>Vernaccia di San Gimignano</td>\n",
       "      <td>NaN</td>\n",
       "      <td>87</td>\n",
       "      <td>$14.00</td>\n",
       "      <td>Tuscany</td>\n",
       "      <td>Guidi 1929 2015 Vernaccia di San Gimignano</td>\n",
       "      <td>Vernaccia</td>\n",
       "      <td>Guidi 1929</td>\n",
       "    </tr>\n",
       "    <tr>\n",
       "      <th>2</th>\n",
       "      <td>1929-01-01 00:00:00</td>\n",
       "      <td>Italy</td>\n",
       "      <td>Sangiovese di Romagna Superiore</td>\n",
       "      <td>Prugneto</td>\n",
       "      <td>84</td>\n",
       "      <td>$15.00</td>\n",
       "      <td>Central Italy</td>\n",
       "      <td>Poderi dal Nespoli 1929 2011 Prugneto (Sangiov...</td>\n",
       "      <td>Sangiovese</td>\n",
       "      <td>Poderi dal Nespoli 1929</td>\n",
       "    </tr>\n",
       "    <tr>\n",
       "      <th>3</th>\n",
       "      <td>1934-01-01 00:00:00</td>\n",
       "      <td>Portugal</td>\n",
       "      <td>NaN</td>\n",
       "      <td>Reserva Velho</td>\n",
       "      <td>93</td>\n",
       "      <td>$495.00</td>\n",
       "      <td>Colares</td>\n",
       "      <td>Adega Viuva Gomes 1934 Reserva Velho Red (Cola...</td>\n",
       "      <td>Ramisco</td>\n",
       "      <td>Adega Viuva Gomes</td>\n",
       "    </tr>\n",
       "    <tr>\n",
       "      <th>4</th>\n",
       "      <td>1945-01-01 00:00:00</td>\n",
       "      <td>France</td>\n",
       "      <td>Rivesaltes</td>\n",
       "      <td>Legend Vintage</td>\n",
       "      <td>95</td>\n",
       "      <td>$350.00</td>\n",
       "      <td>Languedoc-Roussillon</td>\n",
       "      <td>Gérard Bertrand 1945 Legend Vintage Red (Rives...</td>\n",
       "      <td>Red Blend</td>\n",
       "      <td>Gérard Bertrand</td>\n",
       "    </tr>\n",
       "  </tbody>\n",
       "</table>\n",
       "</div>"
      ],
      "text/plain": [
       "               Vintage   Country                           County  \\\n",
       "0  1919-01-01 00:00:00     Spain                             Cava   \n",
       "1  1929-01-01 00:00:00     Italy       Vernaccia di San Gimignano   \n",
       "2  1929-01-01 00:00:00     Italy  Sangiovese di Romagna Superiore   \n",
       "3  1934-01-01 00:00:00  Portugal                              NaN   \n",
       "4  1945-01-01 00:00:00    France                       Rivesaltes   \n",
       "\n",
       "          Designation  Points    Price              Province  \\\n",
       "0  1919 Brut Selecció      88   $13.00             Catalonia   \n",
       "1                 NaN      87   $14.00               Tuscany   \n",
       "2            Prugneto      84   $15.00         Central Italy   \n",
       "3       Reserva Velho      93  $495.00               Colares   \n",
       "4      Legend Vintage      95  $350.00  Languedoc-Roussillon   \n",
       "\n",
       "                                               Title          Variety  \\\n",
       "0     L'Arboc NV 1919 Brut Selecció Sparkling (Cava)  Sparkling Blend   \n",
       "1         Guidi 1929 2015 Vernaccia di San Gimignano        Vernaccia   \n",
       "2  Poderi dal Nespoli 1929 2011 Prugneto (Sangiov...       Sangiovese   \n",
       "3  Adega Viuva Gomes 1934 Reserva Velho Red (Cola...          Ramisco   \n",
       "4  Gérard Bertrand 1945 Legend Vintage Red (Rives...        Red Blend   \n",
       "\n",
       "                    Winery  \n",
       "0                  L'Arboc  \n",
       "1               Guidi 1929  \n",
       "2  Poderi dal Nespoli 1929  \n",
       "3        Adega Viuva Gomes  \n",
       "4          Gérard Bertrand  "
      ]
     },
     "execution_count": 62,
     "metadata": {},
     "output_type": "execute_result"
    }
   ],
   "source": [
    "data_file = \"Resources/Wines.xlsx\"\n",
    "df = pd.read_excel(data_file, engine='openpyxl')\n",
    "df.head()"
   ]
  },
  {
   "cell_type": "code",
   "execution_count": 63,
   "metadata": {},
   "outputs": [
    {
     "data": {
      "text/html": [
       "<div>\n",
       "<style scoped>\n",
       "    .dataframe tbody tr th:only-of-type {\n",
       "        vertical-align: middle;\n",
       "    }\n",
       "\n",
       "    .dataframe tbody tr th {\n",
       "        vertical-align: top;\n",
       "    }\n",
       "\n",
       "    .dataframe thead th {\n",
       "        text-align: right;\n",
       "    }\n",
       "</style>\n",
       "<table border=\"1\" class=\"dataframe\">\n",
       "  <thead>\n",
       "    <tr style=\"text-align: right;\">\n",
       "      <th></th>\n",
       "      <th>Country</th>\n",
       "      <th>Points</th>\n",
       "      <th>Price</th>\n",
       "      <th>Province</th>\n",
       "      <th>Title</th>\n",
       "      <th>Variety</th>\n",
       "      <th>Winery</th>\n",
       "    </tr>\n",
       "  </thead>\n",
       "  <tbody>\n",
       "    <tr>\n",
       "      <th>0</th>\n",
       "      <td>Spain</td>\n",
       "      <td>88</td>\n",
       "      <td>$13.00</td>\n",
       "      <td>Catalonia</td>\n",
       "      <td>L'Arboc NV 1919 Brut Selecció Sparkling (Cava)</td>\n",
       "      <td>Sparkling Blend</td>\n",
       "      <td>L'Arboc</td>\n",
       "    </tr>\n",
       "    <tr>\n",
       "      <th>1</th>\n",
       "      <td>Italy</td>\n",
       "      <td>87</td>\n",
       "      <td>$14.00</td>\n",
       "      <td>Tuscany</td>\n",
       "      <td>Guidi 1929 2015 Vernaccia di San Gimignano</td>\n",
       "      <td>Vernaccia</td>\n",
       "      <td>Guidi 1929</td>\n",
       "    </tr>\n",
       "    <tr>\n",
       "      <th>2</th>\n",
       "      <td>Italy</td>\n",
       "      <td>84</td>\n",
       "      <td>$15.00</td>\n",
       "      <td>Central Italy</td>\n",
       "      <td>Poderi dal Nespoli 1929 2011 Prugneto (Sangiov...</td>\n",
       "      <td>Sangiovese</td>\n",
       "      <td>Poderi dal Nespoli 1929</td>\n",
       "    </tr>\n",
       "    <tr>\n",
       "      <th>3</th>\n",
       "      <td>Portugal</td>\n",
       "      <td>93</td>\n",
       "      <td>$495.00</td>\n",
       "      <td>Colares</td>\n",
       "      <td>Adega Viuva Gomes 1934 Reserva Velho Red (Cola...</td>\n",
       "      <td>Ramisco</td>\n",
       "      <td>Adega Viuva Gomes</td>\n",
       "    </tr>\n",
       "    <tr>\n",
       "      <th>4</th>\n",
       "      <td>France</td>\n",
       "      <td>95</td>\n",
       "      <td>$350.00</td>\n",
       "      <td>Languedoc-Roussillon</td>\n",
       "      <td>Gérard Bertrand 1945 Legend Vintage Red (Rives...</td>\n",
       "      <td>Red Blend</td>\n",
       "      <td>Gérard Bertrand</td>\n",
       "    </tr>\n",
       "  </tbody>\n",
       "</table>\n",
       "</div>"
      ],
      "text/plain": [
       "    Country  Points    Price              Province  \\\n",
       "0     Spain      88   $13.00             Catalonia   \n",
       "1     Italy      87   $14.00               Tuscany   \n",
       "2     Italy      84   $15.00         Central Italy   \n",
       "3  Portugal      93  $495.00               Colares   \n",
       "4    France      95  $350.00  Languedoc-Roussillon   \n",
       "\n",
       "                                               Title          Variety  \\\n",
       "0     L'Arboc NV 1919 Brut Selecció Sparkling (Cava)  Sparkling Blend   \n",
       "1         Guidi 1929 2015 Vernaccia di San Gimignano        Vernaccia   \n",
       "2  Poderi dal Nespoli 1929 2011 Prugneto (Sangiov...       Sangiovese   \n",
       "3  Adega Viuva Gomes 1934 Reserva Velho Red (Cola...          Ramisco   \n",
       "4  Gérard Bertrand 1945 Legend Vintage Red (Rives...        Red Blend   \n",
       "\n",
       "                    Winery  \n",
       "0                  L'Arboc  \n",
       "1               Guidi 1929  \n",
       "2  Poderi dal Nespoli 1929  \n",
       "3        Adega Viuva Gomes  \n",
       "4          Gérard Bertrand  "
      ]
     },
     "execution_count": 63,
     "metadata": {},
     "output_type": "execute_result"
    }
   ],
   "source": [
    "new_df = df[['Country', 'Points', \"Price\", 'Province', 'Title', 'Variety', 'Winery']].copy()\n",
    "new_df.head()"
   ]
  },
  {
   "cell_type": "code",
   "execution_count": 64,
   "metadata": {},
   "outputs": [
    {
     "data": {
      "text/plain": [
       "Country     24989\n",
       "Points      24997\n",
       "Price       23375\n",
       "Province    24989\n",
       "Title       24997\n",
       "Variety     24997\n",
       "Winery      24997\n",
       "dtype: int64"
      ]
     },
     "execution_count": 64,
     "metadata": {},
     "output_type": "execute_result"
    }
   ],
   "source": [
    "new_df.count()"
   ]
  },
  {
   "cell_type": "code",
   "execution_count": 65,
   "metadata": {},
   "outputs": [
    {
     "data": {
      "text/plain": [
       "Country     23367\n",
       "Points      23367\n",
       "Price       23367\n",
       "Province    23367\n",
       "Title       23367\n",
       "Variety     23367\n",
       "Winery      23367\n",
       "dtype: int64"
      ]
     },
     "execution_count": 65,
     "metadata": {},
     "output_type": "execute_result"
    }
   ],
   "source": [
    "new_df = new_df.dropna(how='any')\n",
    "new_df.count()"
   ]
  },
  {
   "cell_type": "code",
   "execution_count": 66,
   "metadata": {},
   "outputs": [
    {
     "data": {
      "text/plain": [
       "Country     object\n",
       "Points       int64\n",
       "Price       object\n",
       "Province    object\n",
       "Title       object\n",
       "Variety     object\n",
       "Winery      object\n",
       "dtype: object"
      ]
     },
     "execution_count": 66,
     "metadata": {},
     "output_type": "execute_result"
    }
   ],
   "source": [
    "new_df.dtypes"
   ]
  },
  {
   "cell_type": "code",
   "execution_count": 67,
   "metadata": {},
   "outputs": [
    {
     "data": {
      "text/plain": [
       "Country      object\n",
       "Points        int64\n",
       "Price       float64\n",
       "Province     object\n",
       "Title        object\n",
       "Variety      object\n",
       "Winery       object\n",
       "dtype: object"
      ]
     },
     "execution_count": 67,
     "metadata": {},
     "output_type": "execute_result"
    }
   ],
   "source": [
    "new_df['Price'] = [float(x.replace(\"$\",\"\").replace(\",\",\"\")) for x in new_df['Price']]\n",
    "new_df.dtypes"
   ]
  },
  {
   "cell_type": "code",
   "execution_count": 68,
   "metadata": {},
   "outputs": [
    {
     "data": {
      "text/plain": [
       "Pinot Noir            2552\n",
       "Chardonnay            2167\n",
       "Cabernet Sauvignon    1834\n",
       "Sauvignon Blanc        986\n",
       "Merlot                 587\n",
       "Pinot Gris             274\n",
       "Name: Variety, dtype: int64"
      ]
     },
     "execution_count": 68,
     "metadata": {},
     "output_type": "execute_result"
    }
   ],
   "source": [
    "winexl_df = new_df.loc[(new_df['Variety'] == \"Cabernet Sauvignon\") | (new_df['Variety'] == \"Chardonnay\") \n",
    "                       | (new_df['Variety'] == \"Pinot Gris\") | (new_df['Variety'] == \"Pinot Noir\")\n",
    "                       | (new_df['Variety'] == \"Sauvignon Blanc\") | (new_df['Variety'] == \"Merlot\")]\n",
    "count = winexl_df['Variety'].value_counts()\n",
    "count"
   ]
  },
  {
   "cell_type": "code",
   "execution_count": 69,
   "metadata": {},
   "outputs": [
    {
     "data": {
      "text/html": [
       "<div>\n",
       "<style scoped>\n",
       "    .dataframe tbody tr th:only-of-type {\n",
       "        vertical-align: middle;\n",
       "    }\n",
       "\n",
       "    .dataframe tbody tr th {\n",
       "        vertical-align: top;\n",
       "    }\n",
       "\n",
       "    .dataframe thead th {\n",
       "        text-align: right;\n",
       "    }\n",
       "</style>\n",
       "<table border=\"1\" class=\"dataframe\">\n",
       "  <thead>\n",
       "    <tr style=\"text-align: right;\">\n",
       "      <th></th>\n",
       "      <th>Country</th>\n",
       "      <th>Points</th>\n",
       "      <th>Price</th>\n",
       "      <th>Province</th>\n",
       "      <th>Title</th>\n",
       "      <th>Variety</th>\n",
       "      <th>Winery</th>\n",
       "    </tr>\n",
       "  </thead>\n",
       "  <tbody>\n",
       "    <tr>\n",
       "      <th>11</th>\n",
       "      <td>US</td>\n",
       "      <td>89</td>\n",
       "      <td>170.0</td>\n",
       "      <td>California</td>\n",
       "      <td>Sebastiani 1987 Cherryblock Cabernet Sauvignon...</td>\n",
       "      <td>Cabernet Sauvignon</td>\n",
       "      <td>Sebastiani</td>\n",
       "    </tr>\n",
       "    <tr>\n",
       "      <th>23</th>\n",
       "      <td>US</td>\n",
       "      <td>82</td>\n",
       "      <td>13.0</td>\n",
       "      <td>California</td>\n",
       "      <td>Gan Eden 1994 Chardonnay (Sonoma County)</td>\n",
       "      <td>Chardonnay</td>\n",
       "      <td>Gan Eden</td>\n",
       "    </tr>\n",
       "    <tr>\n",
       "      <th>33</th>\n",
       "      <td>South Africa</td>\n",
       "      <td>87</td>\n",
       "      <td>17.0</td>\n",
       "      <td>Stellenbosch</td>\n",
       "      <td>Middelvlei 1995 Cabernet Sauvignon (Stellenbosch)</td>\n",
       "      <td>Cabernet Sauvignon</td>\n",
       "      <td>Middelvlei</td>\n",
       "    </tr>\n",
       "    <tr>\n",
       "      <th>36</th>\n",
       "      <td>US</td>\n",
       "      <td>83</td>\n",
       "      <td>22.0</td>\n",
       "      <td>California</td>\n",
       "      <td>Meridian 1996 Coastal Reserve Cabernet Sauvign...</td>\n",
       "      <td>Cabernet Sauvignon</td>\n",
       "      <td>Meridian</td>\n",
       "    </tr>\n",
       "    <tr>\n",
       "      <th>37</th>\n",
       "      <td>US</td>\n",
       "      <td>84</td>\n",
       "      <td>29.0</td>\n",
       "      <td>Washington</td>\n",
       "      <td>Covey Run 1996 Whiskey Canyon Vyd Cabernet Sau...</td>\n",
       "      <td>Cabernet Sauvignon</td>\n",
       "      <td>Covey Run</td>\n",
       "    </tr>\n",
       "  </tbody>\n",
       "</table>\n",
       "</div>"
      ],
      "text/plain": [
       "         Country  Points  Price      Province  \\\n",
       "11            US      89  170.0    California   \n",
       "23            US      82   13.0    California   \n",
       "33  South Africa      87   17.0  Stellenbosch   \n",
       "36            US      83   22.0    California   \n",
       "37            US      84   29.0    Washington   \n",
       "\n",
       "                                                Title             Variety  \\\n",
       "11  Sebastiani 1987 Cherryblock Cabernet Sauvignon...  Cabernet Sauvignon   \n",
       "23           Gan Eden 1994 Chardonnay (Sonoma County)          Chardonnay   \n",
       "33  Middelvlei 1995 Cabernet Sauvignon (Stellenbosch)  Cabernet Sauvignon   \n",
       "36  Meridian 1996 Coastal Reserve Cabernet Sauvign...  Cabernet Sauvignon   \n",
       "37  Covey Run 1996 Whiskey Canyon Vyd Cabernet Sau...  Cabernet Sauvignon   \n",
       "\n",
       "        Winery  \n",
       "11  Sebastiani  \n",
       "23    Gan Eden  \n",
       "33  Middelvlei  \n",
       "36    Meridian  \n",
       "37   Covey Run  "
      ]
     },
     "execution_count": 69,
     "metadata": {},
     "output_type": "execute_result"
    }
   ],
   "source": [
    "winexl_df.head()"
   ]
  },
  {
   "cell_type": "code",
   "execution_count": 70,
   "metadata": {},
   "outputs": [
    {
     "data": {
      "text/html": [
       "<div>\n",
       "<style scoped>\n",
       "    .dataframe tbody tr th:only-of-type {\n",
       "        vertical-align: middle;\n",
       "    }\n",
       "\n",
       "    .dataframe tbody tr th {\n",
       "        vertical-align: top;\n",
       "    }\n",
       "\n",
       "    .dataframe thead th {\n",
       "        text-align: right;\n",
       "    }\n",
       "</style>\n",
       "<table border=\"1\" class=\"dataframe\">\n",
       "  <thead>\n",
       "    <tr style=\"text-align: right;\">\n",
       "      <th></th>\n",
       "      <th>Country</th>\n",
       "      <th>Points</th>\n",
       "      <th>Price</th>\n",
       "      <th>Province</th>\n",
       "      <th>Title</th>\n",
       "      <th>Variety</th>\n",
       "      <th>Winery</th>\n",
       "    </tr>\n",
       "  </thead>\n",
       "  <tbody>\n",
       "    <tr>\n",
       "      <th>0</th>\n",
       "      <td>US</td>\n",
       "      <td>89</td>\n",
       "      <td>170.0</td>\n",
       "      <td>California</td>\n",
       "      <td>Sebastiani 1987 Cherryblock Cabernet Sauvignon...</td>\n",
       "      <td>Cabernet Sauvignon</td>\n",
       "      <td>Sebastiani</td>\n",
       "    </tr>\n",
       "    <tr>\n",
       "      <th>1</th>\n",
       "      <td>US</td>\n",
       "      <td>82</td>\n",
       "      <td>13.0</td>\n",
       "      <td>California</td>\n",
       "      <td>Gan Eden 1994 Chardonnay (Sonoma County)</td>\n",
       "      <td>Chardonnay</td>\n",
       "      <td>Gan Eden</td>\n",
       "    </tr>\n",
       "    <tr>\n",
       "      <th>2</th>\n",
       "      <td>South Africa</td>\n",
       "      <td>87</td>\n",
       "      <td>17.0</td>\n",
       "      <td>Stellenbosch</td>\n",
       "      <td>Middelvlei 1995 Cabernet Sauvignon (Stellenbosch)</td>\n",
       "      <td>Cabernet Sauvignon</td>\n",
       "      <td>Middelvlei</td>\n",
       "    </tr>\n",
       "    <tr>\n",
       "      <th>3</th>\n",
       "      <td>US</td>\n",
       "      <td>83</td>\n",
       "      <td>22.0</td>\n",
       "      <td>California</td>\n",
       "      <td>Meridian 1996 Coastal Reserve Cabernet Sauvign...</td>\n",
       "      <td>Cabernet Sauvignon</td>\n",
       "      <td>Meridian</td>\n",
       "    </tr>\n",
       "    <tr>\n",
       "      <th>4</th>\n",
       "      <td>US</td>\n",
       "      <td>84</td>\n",
       "      <td>29.0</td>\n",
       "      <td>Washington</td>\n",
       "      <td>Covey Run 1996 Whiskey Canyon Vyd Cabernet Sau...</td>\n",
       "      <td>Cabernet Sauvignon</td>\n",
       "      <td>Covey Run</td>\n",
       "    </tr>\n",
       "  </tbody>\n",
       "</table>\n",
       "</div>"
      ],
      "text/plain": [
       "        Country  Points  Price      Province  \\\n",
       "0            US      89  170.0    California   \n",
       "1            US      82   13.0    California   \n",
       "2  South Africa      87   17.0  Stellenbosch   \n",
       "3            US      83   22.0    California   \n",
       "4            US      84   29.0    Washington   \n",
       "\n",
       "                                               Title             Variety  \\\n",
       "0  Sebastiani 1987 Cherryblock Cabernet Sauvignon...  Cabernet Sauvignon   \n",
       "1           Gan Eden 1994 Chardonnay (Sonoma County)          Chardonnay   \n",
       "2  Middelvlei 1995 Cabernet Sauvignon (Stellenbosch)  Cabernet Sauvignon   \n",
       "3  Meridian 1996 Coastal Reserve Cabernet Sauvign...  Cabernet Sauvignon   \n",
       "4  Covey Run 1996 Whiskey Canyon Vyd Cabernet Sau...  Cabernet Sauvignon   \n",
       "\n",
       "       Winery  \n",
       "0  Sebastiani  \n",
       "1    Gan Eden  \n",
       "2  Middelvlei  \n",
       "3    Meridian  \n",
       "4   Covey Run  "
      ]
     },
     "execution_count": 70,
     "metadata": {},
     "output_type": "execute_result"
    }
   ],
   "source": [
    "winexl_df = winexl_df.reset_index(drop=True)\n",
    "winexl_df.head()"
   ]
  },
  {
   "cell_type": "code",
   "execution_count": 71,
   "metadata": {},
   "outputs": [
    {
     "data": {
      "text/html": [
       "<div>\n",
       "<style scoped>\n",
       "    .dataframe tbody tr th:only-of-type {\n",
       "        vertical-align: middle;\n",
       "    }\n",
       "\n",
       "    .dataframe tbody tr th {\n",
       "        vertical-align: top;\n",
       "    }\n",
       "\n",
       "    .dataframe thead th {\n",
       "        text-align: right;\n",
       "    }\n",
       "</style>\n",
       "<table border=\"1\" class=\"dataframe\">\n",
       "  <thead>\n",
       "    <tr style=\"text-align: right;\">\n",
       "      <th></th>\n",
       "      <th>country</th>\n",
       "      <th>description</th>\n",
       "      <th>designation</th>\n",
       "      <th>points</th>\n",
       "      <th>price</th>\n",
       "      <th>province</th>\n",
       "      <th>region_1</th>\n",
       "      <th>region_2</th>\n",
       "      <th>variety</th>\n",
       "      <th>winery</th>\n",
       "    </tr>\n",
       "  </thead>\n",
       "  <tbody>\n",
       "    <tr>\n",
       "      <th>0</th>\n",
       "      <td>France</td>\n",
       "      <td>A big, powerful wine that sums up the richness...</td>\n",
       "      <td>NaN</td>\n",
       "      <td>99</td>\n",
       "      <td>2300.0</td>\n",
       "      <td>Bordeaux</td>\n",
       "      <td>Pauillac</td>\n",
       "      <td>NaN</td>\n",
       "      <td>Bordeaux-style Red Blend</td>\n",
       "      <td>Château Latour</td>\n",
       "    </tr>\n",
       "    <tr>\n",
       "      <th>1</th>\n",
       "      <td>US</td>\n",
       "      <td>The nose on this single-vineyard wine from a s...</td>\n",
       "      <td>Roger Rose Vineyard</td>\n",
       "      <td>91</td>\n",
       "      <td>2013.0</td>\n",
       "      <td>California</td>\n",
       "      <td>Arroyo Seco</td>\n",
       "      <td>Central Coast</td>\n",
       "      <td>Chardonnay</td>\n",
       "      <td>Blair</td>\n",
       "    </tr>\n",
       "    <tr>\n",
       "      <th>2</th>\n",
       "      <td>France</td>\n",
       "      <td>A massive wine for Margaux, packed with tannin...</td>\n",
       "      <td>NaN</td>\n",
       "      <td>98</td>\n",
       "      <td>1900.0</td>\n",
       "      <td>Bordeaux</td>\n",
       "      <td>Margaux</td>\n",
       "      <td>NaN</td>\n",
       "      <td>Bordeaux-style Red Blend</td>\n",
       "      <td>Château Margaux</td>\n",
       "    </tr>\n",
       "    <tr>\n",
       "      <th>3</th>\n",
       "      <td>France</td>\n",
       "      <td>A wine that has created its own universe. It h...</td>\n",
       "      <td>Clos du Mesnil</td>\n",
       "      <td>100</td>\n",
       "      <td>1400.0</td>\n",
       "      <td>Champagne</td>\n",
       "      <td>Champagne</td>\n",
       "      <td>NaN</td>\n",
       "      <td>Chardonnay</td>\n",
       "      <td>Krug</td>\n",
       "    </tr>\n",
       "    <tr>\n",
       "      <th>4</th>\n",
       "      <td>France</td>\n",
       "      <td>A wine that has created its own universe. It h...</td>\n",
       "      <td>Clos du Mesnil</td>\n",
       "      <td>100</td>\n",
       "      <td>1400.0</td>\n",
       "      <td>Champagne</td>\n",
       "      <td>Champagne</td>\n",
       "      <td>NaN</td>\n",
       "      <td>Chardonnay</td>\n",
       "      <td>Krug</td>\n",
       "    </tr>\n",
       "  </tbody>\n",
       "</table>\n",
       "</div>"
      ],
      "text/plain": [
       "  country                                        description  \\\n",
       "0  France  A big, powerful wine that sums up the richness...   \n",
       "1      US  The nose on this single-vineyard wine from a s...   \n",
       "2  France  A massive wine for Margaux, packed with tannin...   \n",
       "3  France  A wine that has created its own universe. It h...   \n",
       "4  France  A wine that has created its own universe. It h...   \n",
       "\n",
       "           designation  points   price    province     region_1  \\\n",
       "0                  NaN      99  2300.0    Bordeaux     Pauillac   \n",
       "1  Roger Rose Vineyard      91  2013.0  California  Arroyo Seco   \n",
       "2                  NaN      98  1900.0    Bordeaux      Margaux   \n",
       "3       Clos du Mesnil     100  1400.0   Champagne    Champagne   \n",
       "4       Clos du Mesnil     100  1400.0   Champagne    Champagne   \n",
       "\n",
       "        region_2                   variety           winery  \n",
       "0            NaN  Bordeaux-style Red Blend   Château Latour  \n",
       "1  Central Coast                Chardonnay            Blair  \n",
       "2            NaN  Bordeaux-style Red Blend  Château Margaux  \n",
       "3            NaN                Chardonnay             Krug  \n",
       "4            NaN                Chardonnay             Krug  "
      ]
     },
     "execution_count": 71,
     "metadata": {},
     "output_type": "execute_result"
    }
   ],
   "source": [
    "csv_file = \"Resources/winemag-data_first150k_for_project.csv\"\n",
    "winemag_data_df = pd.read_csv(csv_file)\n",
    "winemag_data_df.head()"
   ]
  },
  {
   "cell_type": "code",
   "execution_count": 72,
   "metadata": {},
   "outputs": [
    {
     "data": {
      "text/html": [
       "<div>\n",
       "<style scoped>\n",
       "    .dataframe tbody tr th:only-of-type {\n",
       "        vertical-align: middle;\n",
       "    }\n",
       "\n",
       "    .dataframe tbody tr th {\n",
       "        vertical-align: top;\n",
       "    }\n",
       "\n",
       "    .dataframe thead th {\n",
       "        text-align: right;\n",
       "    }\n",
       "</style>\n",
       "<table border=\"1\" class=\"dataframe\">\n",
       "  <thead>\n",
       "    <tr style=\"text-align: right;\">\n",
       "      <th></th>\n",
       "      <th>country</th>\n",
       "      <th>description</th>\n",
       "      <th>points</th>\n",
       "      <th>price</th>\n",
       "      <th>province</th>\n",
       "      <th>variety</th>\n",
       "      <th>winery</th>\n",
       "    </tr>\n",
       "  </thead>\n",
       "  <tbody>\n",
       "    <tr>\n",
       "      <th>0</th>\n",
       "      <td>France</td>\n",
       "      <td>A big, powerful wine that sums up the richness...</td>\n",
       "      <td>99</td>\n",
       "      <td>2300.0</td>\n",
       "      <td>Bordeaux</td>\n",
       "      <td>Bordeaux-style Red Blend</td>\n",
       "      <td>Château Latour</td>\n",
       "    </tr>\n",
       "    <tr>\n",
       "      <th>1</th>\n",
       "      <td>US</td>\n",
       "      <td>The nose on this single-vineyard wine from a s...</td>\n",
       "      <td>91</td>\n",
       "      <td>2013.0</td>\n",
       "      <td>California</td>\n",
       "      <td>Chardonnay</td>\n",
       "      <td>Blair</td>\n",
       "    </tr>\n",
       "    <tr>\n",
       "      <th>2</th>\n",
       "      <td>France</td>\n",
       "      <td>A massive wine for Margaux, packed with tannin...</td>\n",
       "      <td>98</td>\n",
       "      <td>1900.0</td>\n",
       "      <td>Bordeaux</td>\n",
       "      <td>Bordeaux-style Red Blend</td>\n",
       "      <td>Château Margaux</td>\n",
       "    </tr>\n",
       "    <tr>\n",
       "      <th>3</th>\n",
       "      <td>France</td>\n",
       "      <td>A wine that has created its own universe. It h...</td>\n",
       "      <td>100</td>\n",
       "      <td>1400.0</td>\n",
       "      <td>Champagne</td>\n",
       "      <td>Chardonnay</td>\n",
       "      <td>Krug</td>\n",
       "    </tr>\n",
       "    <tr>\n",
       "      <th>4</th>\n",
       "      <td>France</td>\n",
       "      <td>A wine that has created its own universe. It h...</td>\n",
       "      <td>100</td>\n",
       "      <td>1400.0</td>\n",
       "      <td>Champagne</td>\n",
       "      <td>Chardonnay</td>\n",
       "      <td>Krug</td>\n",
       "    </tr>\n",
       "  </tbody>\n",
       "</table>\n",
       "</div>"
      ],
      "text/plain": [
       "  country                                        description  points   price  \\\n",
       "0  France  A big, powerful wine that sums up the richness...      99  2300.0   \n",
       "1      US  The nose on this single-vineyard wine from a s...      91  2013.0   \n",
       "2  France  A massive wine for Margaux, packed with tannin...      98  1900.0   \n",
       "3  France  A wine that has created its own universe. It h...     100  1400.0   \n",
       "4  France  A wine that has created its own universe. It h...     100  1400.0   \n",
       "\n",
       "     province                   variety           winery  \n",
       "0    Bordeaux  Bordeaux-style Red Blend   Château Latour  \n",
       "1  California                Chardonnay            Blair  \n",
       "2    Bordeaux  Bordeaux-style Red Blend  Château Margaux  \n",
       "3   Champagne                Chardonnay             Krug  \n",
       "4   Champagne                Chardonnay             Krug  "
      ]
     },
     "execution_count": 72,
     "metadata": {},
     "output_type": "execute_result"
    }
   ],
   "source": [
    "new_winemag_data_df = winemag_data_df[['country', 'description', 'points', 'price', 'province', 'variety', 'winery']].copy()\n",
    "new_winemag_data_df.head()"
   ]
  },
  {
   "cell_type": "code",
   "execution_count": 73,
   "metadata": {},
   "outputs": [
    {
     "data": {
      "text/plain": [
       "country        150925\n",
       "description    150930\n",
       "points         150930\n",
       "price          137235\n",
       "province       150925\n",
       "variety        150930\n",
       "winery         150930\n",
       "dtype: int64"
      ]
     },
     "execution_count": 73,
     "metadata": {},
     "output_type": "execute_result"
    }
   ],
   "source": [
    "# Check for missing information\n",
    "new_winemag_data_df.count()"
   ]
  },
  {
   "cell_type": "code",
   "execution_count": 74,
   "metadata": {},
   "outputs": [],
   "source": [
    "# Drop all rows with missing information\n",
    "new_winemag_data_df = new_winemag_data_df.dropna(how='any')"
   ]
  },
  {
   "cell_type": "code",
   "execution_count": 75,
   "metadata": {},
   "outputs": [
    {
     "data": {
      "text/plain": [
       "country        137230\n",
       "description    137230\n",
       "points         137230\n",
       "price          137230\n",
       "province       137230\n",
       "variety        137230\n",
       "winery         137230\n",
       "dtype: int64"
      ]
     },
     "execution_count": 75,
     "metadata": {},
     "output_type": "execute_result"
    }
   ],
   "source": [
    "# Check that all columns have the same amount of rows now. \n",
    "new_winemag_data_df.count()"
   ]
  },
  {
   "cell_type": "code",
   "execution_count": 76,
   "metadata": {},
   "outputs": [
    {
     "data": {
      "text/plain": [
       "country         object\n",
       "description     object\n",
       "points           int64\n",
       "price          float64\n",
       "province        object\n",
       "variety         object\n",
       "winery          object\n",
       "dtype: object"
      ]
     },
     "execution_count": 76,
     "metadata": {},
     "output_type": "execute_result"
    }
   ],
   "source": [
    "# Check that the data types fit the data. \n",
    "new_winemag_data_df.dtypes"
   ]
  },
  {
   "cell_type": "code",
   "execution_count": 77,
   "metadata": {},
   "outputs": [
    {
     "data": {
      "text/plain": [
       "Chardonnay               13775\n",
       "Pinot Noir               13625\n",
       "Cabernet Sauvignon       12671\n",
       "Red Blend                 9377\n",
       "Sauvignon Blanc           6054\n",
       "                         ...  \n",
       "Baga-Touriga Nacional        1\n",
       "Chardonel                    1\n",
       "Sarba                        1\n",
       "Erbaluce                     1\n",
       "Rufete                       1\n",
       "Name: variety, Length: 619, dtype: int64"
      ]
     },
     "execution_count": 77,
     "metadata": {},
     "output_type": "execute_result"
    }
   ],
   "source": [
    "# look at the values in the 'variety' column.\n",
    "new_winemag_data_df['variety'].value_counts()"
   ]
  },
  {
   "cell_type": "code",
   "execution_count": 78,
   "metadata": {},
   "outputs": [],
   "source": [
    "new_winemag_data_df['variety'] = new_winemag_data_df['variety'].replace(\n",
    "    {'Pinot Grigio': 'Pinot Gris'})"
   ]
  },
  {
   "cell_type": "code",
   "execution_count": 79,
   "metadata": {},
   "outputs": [
    {
     "data": {
      "text/plain": [
       "Chardonnay            13775\n",
       "Pinot Noir            13625\n",
       "Cabernet Sauvignon    12671\n",
       "Sauvignon Blanc        6054\n",
       "Merlot                 4987\n",
       "Pinot Gris             2545\n",
       "Name: variety, dtype: int64"
      ]
     },
     "execution_count": 79,
     "metadata": {},
     "output_type": "execute_result"
    }
   ],
   "source": [
    "new_winemag_df = new_winemag_data_df.loc[(new_winemag_data_df['variety'] == \"Cabernet Sauvignon\") | (new_winemag_data_df['variety'] == \"Chardonnay\") \n",
    "                       | (new_winemag_data_df['variety'] == \"Pinot Gris\") | (new_winemag_data_df['variety'] == \"Pinot Noir\")\n",
    "                       | (new_winemag_data_df['variety'] == \"Sauvignon Blanc\") | (new_winemag_data_df['variety'] == \"Merlot\")]\n",
    "count = new_winemag_df['variety'].value_counts()\n",
    "count"
   ]
  },
  {
   "cell_type": "code",
   "execution_count": 80,
   "metadata": {},
   "outputs": [
    {
     "data": {
      "text/html": [
       "<div>\n",
       "<style scoped>\n",
       "    .dataframe tbody tr th:only-of-type {\n",
       "        vertical-align: middle;\n",
       "    }\n",
       "\n",
       "    .dataframe tbody tr th {\n",
       "        vertical-align: top;\n",
       "    }\n",
       "\n",
       "    .dataframe thead th {\n",
       "        text-align: right;\n",
       "    }\n",
       "</style>\n",
       "<table border=\"1\" class=\"dataframe\">\n",
       "  <thead>\n",
       "    <tr style=\"text-align: right;\">\n",
       "      <th></th>\n",
       "      <th>country</th>\n",
       "      <th>description</th>\n",
       "      <th>points</th>\n",
       "      <th>price</th>\n",
       "      <th>province</th>\n",
       "      <th>variety</th>\n",
       "      <th>winery</th>\n",
       "    </tr>\n",
       "  </thead>\n",
       "  <tbody>\n",
       "    <tr>\n",
       "      <th>1</th>\n",
       "      <td>US</td>\n",
       "      <td>The nose on this single-vineyard wine from a s...</td>\n",
       "      <td>91</td>\n",
       "      <td>2013.0</td>\n",
       "      <td>California</td>\n",
       "      <td>Chardonnay</td>\n",
       "      <td>Blair</td>\n",
       "    </tr>\n",
       "    <tr>\n",
       "      <th>3</th>\n",
       "      <td>France</td>\n",
       "      <td>A wine that has created its own universe. It h...</td>\n",
       "      <td>100</td>\n",
       "      <td>1400.0</td>\n",
       "      <td>Champagne</td>\n",
       "      <td>Chardonnay</td>\n",
       "      <td>Krug</td>\n",
       "    </tr>\n",
       "    <tr>\n",
       "      <th>4</th>\n",
       "      <td>France</td>\n",
       "      <td>A wine that has created its own universe. It h...</td>\n",
       "      <td>100</td>\n",
       "      <td>1400.0</td>\n",
       "      <td>Champagne</td>\n",
       "      <td>Chardonnay</td>\n",
       "      <td>Krug</td>\n",
       "    </tr>\n",
       "    <tr>\n",
       "      <th>5</th>\n",
       "      <td>France</td>\n",
       "      <td>A wine that has created its own universe. It h...</td>\n",
       "      <td>100</td>\n",
       "      <td>1400.0</td>\n",
       "      <td>Champagne</td>\n",
       "      <td>Chardonnay</td>\n",
       "      <td>Krug</td>\n",
       "    </tr>\n",
       "    <tr>\n",
       "      <th>26</th>\n",
       "      <td>France</td>\n",
       "      <td>From arguably the finest white wine vineyard i...</td>\n",
       "      <td>98</td>\n",
       "      <td>757.0</td>\n",
       "      <td>Burgundy</td>\n",
       "      <td>Chardonnay</td>\n",
       "      <td>Bouchard Père &amp; Fils</td>\n",
       "    </tr>\n",
       "  </tbody>\n",
       "</table>\n",
       "</div>"
      ],
      "text/plain": [
       "   country                                        description  points   price  \\\n",
       "1       US  The nose on this single-vineyard wine from a s...      91  2013.0   \n",
       "3   France  A wine that has created its own universe. It h...     100  1400.0   \n",
       "4   France  A wine that has created its own universe. It h...     100  1400.0   \n",
       "5   France  A wine that has created its own universe. It h...     100  1400.0   \n",
       "26  France  From arguably the finest white wine vineyard i...      98   757.0   \n",
       "\n",
       "      province     variety                winery  \n",
       "1   California  Chardonnay                 Blair  \n",
       "3    Champagne  Chardonnay                  Krug  \n",
       "4    Champagne  Chardonnay                  Krug  \n",
       "5    Champagne  Chardonnay                  Krug  \n",
       "26    Burgundy  Chardonnay  Bouchard Père & Fils  "
      ]
     },
     "execution_count": 80,
     "metadata": {},
     "output_type": "execute_result"
    }
   ],
   "source": [
    "new_winemag_df.head()"
   ]
  },
  {
   "cell_type": "code",
   "execution_count": 81,
   "metadata": {},
   "outputs": [
    {
     "data": {
      "text/html": [
       "<div>\n",
       "<style scoped>\n",
       "    .dataframe tbody tr th:only-of-type {\n",
       "        vertical-align: middle;\n",
       "    }\n",
       "\n",
       "    .dataframe tbody tr th {\n",
       "        vertical-align: top;\n",
       "    }\n",
       "\n",
       "    .dataframe thead th {\n",
       "        text-align: right;\n",
       "    }\n",
       "</style>\n",
       "<table border=\"1\" class=\"dataframe\">\n",
       "  <thead>\n",
       "    <tr style=\"text-align: right;\">\n",
       "      <th></th>\n",
       "      <th>country</th>\n",
       "      <th>description</th>\n",
       "      <th>points</th>\n",
       "      <th>price</th>\n",
       "      <th>province</th>\n",
       "      <th>variety</th>\n",
       "      <th>winery</th>\n",
       "    </tr>\n",
       "  </thead>\n",
       "  <tbody>\n",
       "    <tr>\n",
       "      <th>0</th>\n",
       "      <td>US</td>\n",
       "      <td>The nose on this single-vineyard wine from a s...</td>\n",
       "      <td>91</td>\n",
       "      <td>2013.0</td>\n",
       "      <td>California</td>\n",
       "      <td>Chardonnay</td>\n",
       "      <td>Blair</td>\n",
       "    </tr>\n",
       "    <tr>\n",
       "      <th>1</th>\n",
       "      <td>France</td>\n",
       "      <td>A wine that has created its own universe. It h...</td>\n",
       "      <td>100</td>\n",
       "      <td>1400.0</td>\n",
       "      <td>Champagne</td>\n",
       "      <td>Chardonnay</td>\n",
       "      <td>Krug</td>\n",
       "    </tr>\n",
       "    <tr>\n",
       "      <th>2</th>\n",
       "      <td>France</td>\n",
       "      <td>A wine that has created its own universe. It h...</td>\n",
       "      <td>100</td>\n",
       "      <td>1400.0</td>\n",
       "      <td>Champagne</td>\n",
       "      <td>Chardonnay</td>\n",
       "      <td>Krug</td>\n",
       "    </tr>\n",
       "    <tr>\n",
       "      <th>3</th>\n",
       "      <td>France</td>\n",
       "      <td>A wine that has created its own universe. It h...</td>\n",
       "      <td>100</td>\n",
       "      <td>1400.0</td>\n",
       "      <td>Champagne</td>\n",
       "      <td>Chardonnay</td>\n",
       "      <td>Krug</td>\n",
       "    </tr>\n",
       "    <tr>\n",
       "      <th>4</th>\n",
       "      <td>France</td>\n",
       "      <td>From arguably the finest white wine vineyard i...</td>\n",
       "      <td>98</td>\n",
       "      <td>757.0</td>\n",
       "      <td>Burgundy</td>\n",
       "      <td>Chardonnay</td>\n",
       "      <td>Bouchard Père &amp; Fils</td>\n",
       "    </tr>\n",
       "  </tbody>\n",
       "</table>\n",
       "</div>"
      ],
      "text/plain": [
       "  country                                        description  points   price  \\\n",
       "0      US  The nose on this single-vineyard wine from a s...      91  2013.0   \n",
       "1  France  A wine that has created its own universe. It h...     100  1400.0   \n",
       "2  France  A wine that has created its own universe. It h...     100  1400.0   \n",
       "3  France  A wine that has created its own universe. It h...     100  1400.0   \n",
       "4  France  From arguably the finest white wine vineyard i...      98   757.0   \n",
       "\n",
       "     province     variety                winery  \n",
       "0  California  Chardonnay                 Blair  \n",
       "1   Champagne  Chardonnay                  Krug  \n",
       "2   Champagne  Chardonnay                  Krug  \n",
       "3   Champagne  Chardonnay                  Krug  \n",
       "4    Burgundy  Chardonnay  Bouchard Père & Fils  "
      ]
     },
     "execution_count": 81,
     "metadata": {},
     "output_type": "execute_result"
    }
   ],
   "source": [
    "new_winemag_df = new_winemag_df.reset_index(drop=True)\n",
    "new_winemag_df.head()"
   ]
  },
  {
   "cell_type": "code",
   "execution_count": null,
   "metadata": {},
   "outputs": [],
   "source": []
  },
  {
   "cell_type": "code",
   "execution_count": 35,
   "metadata": {},
   "outputs": [],
   "source": [
    "#Create connection with PostgreSQL\n",
    "conn = pg2.connect(database='Wines',user='postgres', password=api_key)\n",
    "\n",
    "#Establish connection and start cursor to be ready to query\n",
    "cur = conn.cursor()"
   ]
  },
  {
   "cell_type": "code",
   "execution_count": 36,
   "metadata": {},
   "outputs": [
    {
     "data": {
      "text/plain": [
       "('1/1/1919',\n",
       " 'Spain',\n",
       " 'Cava',\n",
       " '1919 Brut Selecció',\n",
       " 88,\n",
       " '$13.00 ',\n",
       " 'Catalonia',\n",
       " \"L'Arboc NV 1919 Brut Selecció Sparkling (Cava)\",\n",
       " 'Sparkling Blend',\n",
       " \"L'Arboc\")"
      ]
     },
     "execution_count": 36,
     "metadata": {},
     "output_type": "execute_result"
    }
   ],
   "source": [
    "#Pass in a query as a string\n",
    "cur.execute(\"SELECT * FROM wine_info\")\n",
    "\n",
    "#Show results of first row\n",
    "cur.fetchone()"
   ]
  },
  {
   "cell_type": "code",
   "execution_count": 37,
   "metadata": {},
   "outputs": [
    {
     "data": {
      "text/html": [
       "<div>\n",
       "<style scoped>\n",
       "    .dataframe tbody tr th:only-of-type {\n",
       "        vertical-align: middle;\n",
       "    }\n",
       "\n",
       "    .dataframe tbody tr th {\n",
       "        vertical-align: top;\n",
       "    }\n",
       "\n",
       "    .dataframe thead th {\n",
       "        text-align: right;\n",
       "    }\n",
       "</style>\n",
       "<table border=\"1\" class=\"dataframe\">\n",
       "  <thead>\n",
       "    <tr style=\"text-align: right;\">\n",
       "      <th></th>\n",
       "      <th>vintage</th>\n",
       "      <th>country</th>\n",
       "      <th>county</th>\n",
       "      <th>designation</th>\n",
       "      <th>points</th>\n",
       "      <th>price</th>\n",
       "      <th>province</th>\n",
       "      <th>title</th>\n",
       "      <th>variety</th>\n",
       "      <th>winery</th>\n",
       "    </tr>\n",
       "  </thead>\n",
       "  <tbody>\n",
       "    <tr>\n",
       "      <th>0</th>\n",
       "      <td>1/1/1919</td>\n",
       "      <td>Spain</td>\n",
       "      <td>Cava</td>\n",
       "      <td>1919 Brut Selecció</td>\n",
       "      <td>88</td>\n",
       "      <td>$13.00</td>\n",
       "      <td>Catalonia</td>\n",
       "      <td>L'Arboc NV 1919 Brut Selecció Sparkling (Cava)</td>\n",
       "      <td>Sparkling Blend</td>\n",
       "      <td>L'Arboc</td>\n",
       "    </tr>\n",
       "    <tr>\n",
       "      <th>1</th>\n",
       "      <td>1/1/1929</td>\n",
       "      <td>Italy</td>\n",
       "      <td>Vernaccia di San Gimignano</td>\n",
       "      <td>None</td>\n",
       "      <td>87</td>\n",
       "      <td>$14.00</td>\n",
       "      <td>Tuscany</td>\n",
       "      <td>Guidi 1929 2015 Vernaccia di San Gimignano</td>\n",
       "      <td>Vernaccia</td>\n",
       "      <td>Guidi 1929</td>\n",
       "    </tr>\n",
       "    <tr>\n",
       "      <th>2</th>\n",
       "      <td>1/1/1929</td>\n",
       "      <td>Italy</td>\n",
       "      <td>Sangiovese di Romagna Superiore</td>\n",
       "      <td>Prugneto</td>\n",
       "      <td>84</td>\n",
       "      <td>$15.00</td>\n",
       "      <td>Central Italy</td>\n",
       "      <td>Poderi dal Nespoli 1929 2011 Prugneto (Sangiov...</td>\n",
       "      <td>Sangiovese</td>\n",
       "      <td>Poderi dal Nespoli 1929</td>\n",
       "    </tr>\n",
       "    <tr>\n",
       "      <th>3</th>\n",
       "      <td>1/1/1934</td>\n",
       "      <td>Portugal</td>\n",
       "      <td>None</td>\n",
       "      <td>Reserva Velho</td>\n",
       "      <td>93</td>\n",
       "      <td>$495.00</td>\n",
       "      <td>Colares</td>\n",
       "      <td>Adega Viuva Gomes 1934 Reserva Velho Red (Cola...</td>\n",
       "      <td>Ramisco</td>\n",
       "      <td>Adega Viuva Gomes</td>\n",
       "    </tr>\n",
       "    <tr>\n",
       "      <th>4</th>\n",
       "      <td>1/1/1945</td>\n",
       "      <td>France</td>\n",
       "      <td>Rivesaltes</td>\n",
       "      <td>Legend Vintage</td>\n",
       "      <td>95</td>\n",
       "      <td>$350.00</td>\n",
       "      <td>Languedoc-Roussillon</td>\n",
       "      <td>Gérard Bertrand 1945 Legend Vintage Red (Rives...</td>\n",
       "      <td>Red Blend</td>\n",
       "      <td>Gérard Bertrand</td>\n",
       "    </tr>\n",
       "  </tbody>\n",
       "</table>\n",
       "</div>"
      ],
      "text/plain": [
       "    vintage   country                           county         designation  \\\n",
       "0  1/1/1919     Spain                             Cava  1919 Brut Selecció   \n",
       "1  1/1/1929     Italy       Vernaccia di San Gimignano                None   \n",
       "2  1/1/1929     Italy  Sangiovese di Romagna Superiore            Prugneto   \n",
       "3  1/1/1934  Portugal                             None       Reserva Velho   \n",
       "4  1/1/1945    France                       Rivesaltes      Legend Vintage   \n",
       "\n",
       "   points     price              province  \\\n",
       "0      88   $13.00              Catalonia   \n",
       "1      87   $14.00                Tuscany   \n",
       "2      84   $15.00          Central Italy   \n",
       "3      93  $495.00                Colares   \n",
       "4      95  $350.00   Languedoc-Roussillon   \n",
       "\n",
       "                                               title          variety  \\\n",
       "0     L'Arboc NV 1919 Brut Selecció Sparkling (Cava)  Sparkling Blend   \n",
       "1         Guidi 1929 2015 Vernaccia di San Gimignano        Vernaccia   \n",
       "2  Poderi dal Nespoli 1929 2011 Prugneto (Sangiov...       Sangiovese   \n",
       "3  Adega Viuva Gomes 1934 Reserva Velho Red (Cola...          Ramisco   \n",
       "4  Gérard Bertrand 1945 Legend Vintage Red (Rives...        Red Blend   \n",
       "\n",
       "                    winery  \n",
       "0                  L'Arboc  \n",
       "1               Guidi 1929  \n",
       "2  Poderi dal Nespoli 1929  \n",
       "3        Adega Viuva Gomes  \n",
       "4          Gérard Bertrand  "
      ]
     },
     "execution_count": 37,
     "metadata": {},
     "output_type": "execute_result"
    }
   ],
   "source": [
    "#Pulling the wanted data\n",
    "Salaries = pd.read_sql(\"SELECT * FROM wine_info\", conn)\n",
    "\n",
    "#Show results\n",
    "Salaries.head()"
   ]
  },
  {
   "cell_type": "code",
   "execution_count": 32,
   "metadata": {},
   "outputs": [
    {
     "data": {
      "text/plain": [
       "('Gallo',\n",
       " '13312834',\n",
       " 'Ecco Domani174 Pinot Grigio - 750ml Bottle',\n",
       " '2017-08-01T21:13:49.000Z',\n",
       " '5',\n",
       " 'This a fantastic white wine for any occasion!',\n",
       " 'My Favorite White Wine',\n",
       " 'Bjh')"
      ]
     },
     "execution_count": 32,
     "metadata": {},
     "output_type": "execute_result"
    }
   ],
   "source": [
    "#Pass in a query as a string\n",
    "cur.execute(\"SELECT * FROM wine_reviews\")\n",
    "\n",
    "#Show results of first row\n",
    "cur.fetchone()"
   ]
  },
  {
   "cell_type": "code",
   "execution_count": 33,
   "metadata": {},
   "outputs": [
    {
     "data": {
      "text/html": [
       "<div>\n",
       "<style scoped>\n",
       "    .dataframe tbody tr th:only-of-type {\n",
       "        vertical-align: middle;\n",
       "    }\n",
       "\n",
       "    .dataframe tbody tr th {\n",
       "        vertical-align: top;\n",
       "    }\n",
       "\n",
       "    .dataframe thead th {\n",
       "        text-align: right;\n",
       "    }\n",
       "</style>\n",
       "<table border=\"1\" class=\"dataframe\">\n",
       "  <thead>\n",
       "    <tr style=\"text-align: right;\">\n",
       "      <th></th>\n",
       "      <th>brand</th>\n",
       "      <th>manufacturernumber</th>\n",
       "      <th>winename</th>\n",
       "      <th>reviewsdate</th>\n",
       "      <th>reviewsrating</th>\n",
       "      <th>reviewstext</th>\n",
       "      <th>reviewstitle</th>\n",
       "      <th>reviewsusername</th>\n",
       "    </tr>\n",
       "  </thead>\n",
       "  <tbody>\n",
       "    <tr>\n",
       "      <th>0</th>\n",
       "      <td>Gallo</td>\n",
       "      <td>13312834</td>\n",
       "      <td>Ecco Domani174 Pinot Grigio - 750ml Bottle</td>\n",
       "      <td>2017-08-01T21:13:49.000Z</td>\n",
       "      <td>5</td>\n",
       "      <td>This a fantastic white wine for any occasion!</td>\n",
       "      <td>My Favorite White Wine</td>\n",
       "      <td>Bjh</td>\n",
       "    </tr>\n",
       "    <tr>\n",
       "      <th>1</th>\n",
       "      <td>Fresh Craft Co.</td>\n",
       "      <td>50392800</td>\n",
       "      <td>Fresh Craft174 Mango Citrus - 4pk / 250ml Bottle</td>\n",
       "      <td>2017-07-10T04:17:34.000Z</td>\n",
       "      <td>5</td>\n",
       "      <td>Tart, not sweet...very refreshing and delicious!</td>\n",
       "      <td>Yum!!</td>\n",
       "      <td>Wino</td>\n",
       "    </tr>\n",
       "    <tr>\n",
       "      <th>2</th>\n",
       "      <td>1000 Stories</td>\n",
       "      <td>50399893</td>\n",
       "      <td>1000 Stories174 Zinfandel - 750ml Bottle</td>\n",
       "      <td>2017-10-02T12:52:27.000Z</td>\n",
       "      <td>5</td>\n",
       "      <td>I was given this wine so it was a delightful s...</td>\n",
       "      <td>A New Favorite!</td>\n",
       "      <td>Bama Mom</td>\n",
       "    </tr>\n",
       "    <tr>\n",
       "      <th>3</th>\n",
       "      <td>1000 Stories</td>\n",
       "      <td>50399893</td>\n",
       "      <td>1000 Stories174 Zinfandel - 750ml Bottle</td>\n",
       "      <td>2016-11-02T10:00:37.000Z</td>\n",
       "      <td>5</td>\n",
       "      <td>This is a phenomenal wine and my new favorite ...</td>\n",
       "      <td>Bold, Flavorful, Aromatic, Delicious</td>\n",
       "      <td>Av Dub</td>\n",
       "    </tr>\n",
       "    <tr>\n",
       "      <th>4</th>\n",
       "      <td>Wine Cube153</td>\n",
       "      <td>14831433</td>\n",
       "      <td>Pink Moscato - 3l Bottle - Wine Cube153</td>\n",
       "      <td>2014-11-25T03:37:34.000Z</td>\n",
       "      <td>5</td>\n",
       "      <td>4 750ml bottles for the price of two With way ...</td>\n",
       "      <td>Yum! Plus, Environmentally Friendly!</td>\n",
       "      <td>Chelseamay</td>\n",
       "    </tr>\n",
       "  </tbody>\n",
       "</table>\n",
       "</div>"
      ],
      "text/plain": [
       "             brand manufacturernumber  \\\n",
       "0            Gallo           13312834   \n",
       "1  Fresh Craft Co.           50392800   \n",
       "2     1000 Stories           50399893   \n",
       "3     1000 Stories           50399893   \n",
       "4     Wine Cube153           14831433   \n",
       "\n",
       "                                           winename               reviewsdate  \\\n",
       "0        Ecco Domani174 Pinot Grigio - 750ml Bottle  2017-08-01T21:13:49.000Z   \n",
       "1  Fresh Craft174 Mango Citrus - 4pk / 250ml Bottle  2017-07-10T04:17:34.000Z   \n",
       "2          1000 Stories174 Zinfandel - 750ml Bottle  2017-10-02T12:52:27.000Z   \n",
       "3          1000 Stories174 Zinfandel - 750ml Bottle  2016-11-02T10:00:37.000Z   \n",
       "4           Pink Moscato - 3l Bottle - Wine Cube153  2014-11-25T03:37:34.000Z   \n",
       "\n",
       "  reviewsrating                                        reviewstext  \\\n",
       "0             5      This a fantastic white wine for any occasion!   \n",
       "1             5   Tart, not sweet...very refreshing and delicious!   \n",
       "2             5  I was given this wine so it was a delightful s...   \n",
       "3             5  This is a phenomenal wine and my new favorite ...   \n",
       "4             5  4 750ml bottles for the price of two With way ...   \n",
       "\n",
       "                           reviewstitle reviewsusername  \n",
       "0                My Favorite White Wine             Bjh  \n",
       "1                                 Yum!!            Wino  \n",
       "2                       A New Favorite!        Bama Mom  \n",
       "3  Bold, Flavorful, Aromatic, Delicious          Av Dub  \n",
       "4  Yum! Plus, Environmentally Friendly!      Chelseamay  "
      ]
     },
     "execution_count": 33,
     "metadata": {},
     "output_type": "execute_result"
    }
   ],
   "source": [
    "#Pulling the wanted data\n",
    "Salaries = pd.read_sql(\"SELECT * FROM wine_reviews\", conn)\n",
    "\n",
    "#Show results\n",
    "Salaries.head()"
   ]
  },
  {
   "cell_type": "code",
   "execution_count": 24,
   "metadata": {},
   "outputs": [
    {
     "data": {
      "text/plain": [
       "('ARIZONA', '65,413', '0', '0')"
      ]
     },
     "execution_count": 24,
     "metadata": {},
     "output_type": "execute_result"
    }
   ],
   "source": [
    "#Pass in a query as a string\n",
    "cur.execute(\"SELECT * FROM wines_by_state_seven\")\n",
    "\n",
    "#Show results of first row\n",
    "cur.fetchone()"
   ]
  },
  {
   "cell_type": "code",
   "execution_count": 25,
   "metadata": {},
   "outputs": [
    {
     "data": {
      "text/html": [
       "<div>\n",
       "<style scoped>\n",
       "    .dataframe tbody tr th:only-of-type {\n",
       "        vertical-align: middle;\n",
       "    }\n",
       "\n",
       "    .dataframe tbody tr th {\n",
       "        vertical-align: top;\n",
       "    }\n",
       "\n",
       "    .dataframe thead th {\n",
       "        text-align: right;\n",
       "    }\n",
       "</style>\n",
       "<table border=\"1\" class=\"dataframe\">\n",
       "  <thead>\n",
       "    <tr style=\"text-align: right;\">\n",
       "      <th></th>\n",
       "      <th>usstate</th>\n",
       "      <th>wines</th>\n",
       "      <th>specialwines</th>\n",
       "      <th>specialwinestaxable</th>\n",
       "    </tr>\n",
       "  </thead>\n",
       "  <tbody>\n",
       "    <tr>\n",
       "      <th>0</th>\n",
       "      <td>ARIZONA</td>\n",
       "      <td>65,413</td>\n",
       "      <td>0</td>\n",
       "      <td>0</td>\n",
       "    </tr>\n",
       "    <tr>\n",
       "      <th>1</th>\n",
       "      <td>CALIFORNIA</td>\n",
       "      <td>568,801,873</td>\n",
       "      <td>794158</td>\n",
       "      <td>171939</td>\n",
       "    </tr>\n",
       "    <tr>\n",
       "      <th>2</th>\n",
       "      <td>COLORADO</td>\n",
       "      <td>221,258</td>\n",
       "      <td>0</td>\n",
       "      <td>0</td>\n",
       "    </tr>\n",
       "    <tr>\n",
       "      <th>3</th>\n",
       "      <td>CONNECTICUT</td>\n",
       "      <td>110,484</td>\n",
       "      <td>0</td>\n",
       "      <td>0</td>\n",
       "    </tr>\n",
       "    <tr>\n",
       "      <th>4</th>\n",
       "      <td>FLORIDA</td>\n",
       "      <td>1,610,275</td>\n",
       "      <td>0</td>\n",
       "      <td>0</td>\n",
       "    </tr>\n",
       "  </tbody>\n",
       "</table>\n",
       "</div>"
      ],
      "text/plain": [
       "       usstate        wines specialwines specialwinestaxable\n",
       "0      ARIZONA       65,413            0                   0\n",
       "1   CALIFORNIA  568,801,873       794158              171939\n",
       "2     COLORADO      221,258            0                   0\n",
       "3  CONNECTICUT      110,484            0                   0\n",
       "4      FLORIDA    1,610,275            0                   0"
      ]
     },
     "execution_count": 25,
     "metadata": {},
     "output_type": "execute_result"
    }
   ],
   "source": [
    "#Pulling the wanted data\n",
    "Salaries = pd.read_sql(\"SELECT * FROM wines_by_state_seven\", conn)\n",
    "\n",
    "#Show results\n",
    "Salaries.head()"
   ]
  },
  {
   "cell_type": "code",
   "execution_count": 26,
   "metadata": {},
   "outputs": [
    {
     "data": {
      "text/plain": [
       "('ALABAMA', '42,656', '0', '0')"
      ]
     },
     "execution_count": 26,
     "metadata": {},
     "output_type": "execute_result"
    }
   ],
   "source": [
    "#Pass in a query as a string\n",
    "cur.execute(\"SELECT * FROM wines_by_state_fifteen\")\n",
    "\n",
    "#Show results of first row\n",
    "cur.fetchone()"
   ]
  },
  {
   "cell_type": "code",
   "execution_count": 27,
   "metadata": {},
   "outputs": [
    {
     "data": {
      "text/html": [
       "<div>\n",
       "<style scoped>\n",
       "    .dataframe tbody tr th:only-of-type {\n",
       "        vertical-align: middle;\n",
       "    }\n",
       "\n",
       "    .dataframe tbody tr th {\n",
       "        vertical-align: top;\n",
       "    }\n",
       "\n",
       "    .dataframe thead th {\n",
       "        text-align: right;\n",
       "    }\n",
       "</style>\n",
       "<table border=\"1\" class=\"dataframe\">\n",
       "  <thead>\n",
       "    <tr style=\"text-align: right;\">\n",
       "      <th></th>\n",
       "      <th>usstate</th>\n",
       "      <th>wines</th>\n",
       "      <th>specialwines</th>\n",
       "      <th>specialwinestaxable</th>\n",
       "    </tr>\n",
       "  </thead>\n",
       "  <tbody>\n",
       "    <tr>\n",
       "      <th>0</th>\n",
       "      <td>ALABAMA</td>\n",
       "      <td>42,656</td>\n",
       "      <td>0</td>\n",
       "      <td>0</td>\n",
       "    </tr>\n",
       "    <tr>\n",
       "      <th>1</th>\n",
       "      <td>ARIZONA</td>\n",
       "      <td>198,746</td>\n",
       "      <td>5,050</td>\n",
       "      <td>2,133</td>\n",
       "    </tr>\n",
       "    <tr>\n",
       "      <th>2</th>\n",
       "      <td>ARKANSAS</td>\n",
       "      <td>203,701</td>\n",
       "      <td>0</td>\n",
       "      <td>0</td>\n",
       "    </tr>\n",
       "    <tr>\n",
       "      <th>3</th>\n",
       "      <td>CALIFORNIA</td>\n",
       "      <td>638,173,762</td>\n",
       "      <td>844,056</td>\n",
       "      <td>158,470</td>\n",
       "    </tr>\n",
       "    <tr>\n",
       "      <th>4</th>\n",
       "      <td>COLORADO</td>\n",
       "      <td>449,679</td>\n",
       "      <td>0</td>\n",
       "      <td>0</td>\n",
       "    </tr>\n",
       "  </tbody>\n",
       "</table>\n",
       "</div>"
      ],
      "text/plain": [
       "      usstate        wines specialwines specialwinestaxable\n",
       "0     ALABAMA       42,656            0                   0\n",
       "1     ARIZONA      198,746        5,050               2,133\n",
       "2    ARKANSAS      203,701            0                   0\n",
       "3  CALIFORNIA  638,173,762      844,056             158,470\n",
       "4    COLORADO      449,679            0                   0"
      ]
     },
     "execution_count": 27,
     "metadata": {},
     "output_type": "execute_result"
    }
   ],
   "source": [
    "#Pulling the wanted data\n",
    "Salaries = pd.read_sql(\"SELECT * FROM wines_by_state_fifteen\", conn)\n",
    "\n",
    "#Show results\n",
    "Salaries.head()"
   ]
  },
  {
   "cell_type": "code",
   "execution_count": 53,
   "metadata": {},
   "outputs": [],
   "source": [
    "rds_connection_string = \"postgres:Planning4future@@localhost:5432/Wines\"\n",
    "engine = create_engine(f'postgresql://{rds_connection_string}')"
   ]
  },
  {
   "cell_type": "code",
   "execution_count": 54,
   "metadata": {},
   "outputs": [],
   "source": [
    "#from sqlalchemy.dialects import postgresql\n",
    "#print(insert_stmt.compile(dialect=postgresql.dialect()))"
   ]
  },
  {
   "cell_type": "code",
   "execution_count": 82,
   "metadata": {},
   "outputs": [
    {
     "data": {
      "text/plain": [
       "['newwinemag',\n",
       " 'winexl',\n",
       " 'wine_info',\n",
       " 'wines_by_state_seven',\n",
       " 'wines_by_state_fifteen',\n",
       " 'winemag',\n",
       " 'wine_reviews']"
      ]
     },
     "execution_count": 82,
     "metadata": {},
     "output_type": "execute_result"
    }
   ],
   "source": [
    " engine.table_names()"
   ]
  },
  {
   "cell_type": "code",
   "execution_count": 83,
   "metadata": {},
   "outputs": [
    {
     "data": {
      "text/plain": [
       "['winexl', 'newwinemag']"
      ]
     },
     "execution_count": 83,
     "metadata": {},
     "output_type": "execute_result"
    }
   ],
   "source": [
    " ['winexl', 'newwinemag']"
   ]
  },
  {
   "cell_type": "markdown",
   "metadata": {},
   "source": [
    "###  Connect to local database"
   ]
  },
  {
   "cell_type": "code",
   "execution_count": 90,
   "metadata": {},
   "outputs": [
    {
     "ename": "ProgrammingError",
     "evalue": "(psycopg2.errors.UndefinedColumn) column \"Country\" of relation \"winexl\" does not exist\nLINE 1: INSERT INTO winexl (\"Country\", \"Points\", \"Price\", \"Province\"...\n                            ^\n\n[SQL: INSERT INTO winexl (\"Country\", \"Points\", \"Price\", \"Province\", \"Title\", \"Variety\", \"Winery\") VALUES (%(Country)s, %(Points)s, %(Price)s, %(Province)s, %(Title)s, %(Variety)s, %(Winery)s)]\n[parameters: ({'Country': 'US', 'Points': 89, 'Price': 170.0, 'Province': 'California', 'Title': 'Sebastiani 1987 Cherryblock Cabernet Sauvignon (Sonoma Valley)', 'Variety': 'Cabernet Sauvignon', 'Winery': 'Sebastiani'}, {'Country': 'US', 'Points': 82, 'Price': 13.0, 'Province': 'California', 'Title': 'Gan Eden 1994 Chardonnay (Sonoma County)', 'Variety': 'Chardonnay', 'Winery': 'Gan Eden'}, {'Country': 'South Africa', 'Points': 87, 'Price': 17.0, 'Province': 'Stellenbosch', 'Title': 'Middelvlei 1995 Cabernet Sauvignon (Stellenbosch)', 'Variety': 'Cabernet Sauvignon', 'Winery': 'Middelvlei'}, {'Country': 'US', 'Points': 83, 'Price': 22.0, 'Province': 'California', 'Title': 'Meridian 1996 Coastal Reserve Cabernet Sauvignon (California)', 'Variety': 'Cabernet Sauvignon', 'Winery': 'Meridian'}, {'Country': 'US', 'Points': 84, 'Price': 29.0, 'Province': 'Washington', 'Title': 'Covey Run 1996 Whiskey Canyon Vyd Cabernet Sauvignon (Yakima Valley)', 'Variety': 'Cabernet Sauvignon', 'Winery': 'Covey Run'}, {'Country': 'US', 'Points': 88, 'Price': 35.0, 'Province': 'California', 'Title': \"Château Souverain 1996 Winemaker's Reserve Cabernet Sauvignon (Sonoma County)\", 'Variety': 'Cabernet Sauvignon', 'Winery': 'Château Souverain'}, {'Country': 'US', 'Points': 87, 'Price': 24.0, 'Province': 'California', 'Title': 'Kunde 1996 Drummond Vineyard Cabernet Sauvignon (Sonoma Valley)', 'Variety': 'Cabernet Sauvignon', 'Winery': 'Kunde'}, {'Country': 'US', 'Points': 90, 'Price': 60.0, 'Province': 'California', 'Title': 'Bell 1997 Baritelle Vyd Cabernet Sauvignon (Rutherford)', 'Variety': 'Cabernet Sauvignon', 'Winery': 'Bell'}  ... displaying 10 of 8400 total bound parameter sets ...  {'Country': 'US', 'Points': 86, 'Price': 16.0, 'Province': 'New York', 'Title': 'Hosmer 2016 Estate Winery Pinot Gris (Cayuga Lake)', 'Variety': 'Pinot Gris', 'Winery': 'Hosmer'}, {'Country': 'Chile', 'Points': 87, 'Price': 15.0, 'Province': 'Casablanca Valley', 'Title': 'Viña Casablanca 2016 Nimbus Single Vineyard Sauvignon Blanc (Casablanca Valley)', 'Variety': 'Sauvignon Blanc', 'Winery': 'Viña Casablanca'})]\n(Background on this error at: http://sqlalche.me/e/f405)",
     "output_type": "error",
     "traceback": [
      "\u001b[1;31m---------------------------------------------------------------------------\u001b[0m",
      "\u001b[1;31mUndefinedColumn\u001b[0m                           Traceback (most recent call last)",
      "\u001b[1;32m~\\anaconda3\\envs\\PythonData\\lib\\site-packages\\sqlalchemy\\engine\\base.py\u001b[0m in \u001b[0;36m_execute_context\u001b[1;34m(self, dialect, constructor, statement, parameters, *args)\u001b[0m\n\u001b[0;32m   1263\u001b[0m                     self.dialect.do_executemany(\n\u001b[1;32m-> 1264\u001b[1;33m                         \u001b[0mcursor\u001b[0m\u001b[1;33m,\u001b[0m \u001b[0mstatement\u001b[0m\u001b[1;33m,\u001b[0m \u001b[0mparameters\u001b[0m\u001b[1;33m,\u001b[0m \u001b[0mcontext\u001b[0m\u001b[1;33m\u001b[0m\u001b[1;33m\u001b[0m\u001b[0m\n\u001b[0m\u001b[0;32m   1265\u001b[0m                     )\n",
      "\u001b[1;32m~\\anaconda3\\envs\\PythonData\\lib\\site-packages\\sqlalchemy\\dialects\\postgresql\\psycopg2.py\u001b[0m in \u001b[0;36mdo_executemany\u001b[1;34m(self, cursor, statement, parameters, context)\u001b[0m\n\u001b[0;32m    872\u001b[0m         \u001b[1;32mif\u001b[0m \u001b[0mself\u001b[0m\u001b[1;33m.\u001b[0m\u001b[0mexecutemany_mode\u001b[0m \u001b[1;32mis\u001b[0m \u001b[0mEXECUTEMANY_DEFAULT\u001b[0m\u001b[1;33m:\u001b[0m\u001b[1;33m\u001b[0m\u001b[1;33m\u001b[0m\u001b[0m\n\u001b[1;32m--> 873\u001b[1;33m             \u001b[0mcursor\u001b[0m\u001b[1;33m.\u001b[0m\u001b[0mexecutemany\u001b[0m\u001b[1;33m(\u001b[0m\u001b[0mstatement\u001b[0m\u001b[1;33m,\u001b[0m \u001b[0mparameters\u001b[0m\u001b[1;33m)\u001b[0m\u001b[1;33m\u001b[0m\u001b[1;33m\u001b[0m\u001b[0m\n\u001b[0m\u001b[0;32m    874\u001b[0m             \u001b[1;32mreturn\u001b[0m\u001b[1;33m\u001b[0m\u001b[1;33m\u001b[0m\u001b[0m\n",
      "\u001b[1;31mUndefinedColumn\u001b[0m: column \"Country\" of relation \"winexl\" does not exist\nLINE 1: INSERT INTO winexl (\"Country\", \"Points\", \"Price\", \"Province\"...\n                            ^\n",
      "\nThe above exception was the direct cause of the following exception:\n",
      "\u001b[1;31mProgrammingError\u001b[0m                          Traceback (most recent call last)",
      "\u001b[1;32m<ipython-input-90-86e1d082516b>\u001b[0m in \u001b[0;36m<module>\u001b[1;34m\u001b[0m\n\u001b[1;32m----> 1\u001b[1;33m \u001b[0mwinexl_df\u001b[0m\u001b[1;33m.\u001b[0m\u001b[0mto_sql\u001b[0m\u001b[1;33m(\u001b[0m\u001b[0mname\u001b[0m\u001b[1;33m=\u001b[0m\u001b[1;34m'winexl'\u001b[0m\u001b[1;33m,\u001b[0m \u001b[0mcon\u001b[0m\u001b[1;33m=\u001b[0m\u001b[0mengine\u001b[0m\u001b[1;33m,\u001b[0m \u001b[0mif_exists\u001b[0m\u001b[1;33m=\u001b[0m\u001b[1;34m'append'\u001b[0m\u001b[1;33m,\u001b[0m \u001b[0mindex\u001b[0m\u001b[1;33m=\u001b[0m\u001b[1;32mFalse\u001b[0m\u001b[1;33m)\u001b[0m\u001b[1;33m\u001b[0m\u001b[1;33m\u001b[0m\u001b[0m\n\u001b[0m",
      "\u001b[1;32m~\\anaconda3\\envs\\PythonData\\lib\\site-packages\\pandas\\core\\generic.py\u001b[0m in \u001b[0;36mto_sql\u001b[1;34m(self, name, con, schema, if_exists, index, index_label, chunksize, dtype, method)\u001b[0m\n\u001b[0;32m   2661\u001b[0m             \u001b[0mchunksize\u001b[0m\u001b[1;33m=\u001b[0m\u001b[0mchunksize\u001b[0m\u001b[1;33m,\u001b[0m\u001b[1;33m\u001b[0m\u001b[1;33m\u001b[0m\u001b[0m\n\u001b[0;32m   2662\u001b[0m             \u001b[0mdtype\u001b[0m\u001b[1;33m=\u001b[0m\u001b[0mdtype\u001b[0m\u001b[1;33m,\u001b[0m\u001b[1;33m\u001b[0m\u001b[1;33m\u001b[0m\u001b[0m\n\u001b[1;32m-> 2663\u001b[1;33m             \u001b[0mmethod\u001b[0m\u001b[1;33m=\u001b[0m\u001b[0mmethod\u001b[0m\u001b[1;33m,\u001b[0m\u001b[1;33m\u001b[0m\u001b[1;33m\u001b[0m\u001b[0m\n\u001b[0m\u001b[0;32m   2664\u001b[0m         )\n\u001b[0;32m   2665\u001b[0m \u001b[1;33m\u001b[0m\u001b[0m\n",
      "\u001b[1;32m~\\anaconda3\\envs\\PythonData\\lib\\site-packages\\pandas\\io\\sql.py\u001b[0m in \u001b[0;36mto_sql\u001b[1;34m(frame, name, con, schema, if_exists, index, index_label, chunksize, dtype, method)\u001b[0m\n\u001b[0;32m    519\u001b[0m         \u001b[0mchunksize\u001b[0m\u001b[1;33m=\u001b[0m\u001b[0mchunksize\u001b[0m\u001b[1;33m,\u001b[0m\u001b[1;33m\u001b[0m\u001b[1;33m\u001b[0m\u001b[0m\n\u001b[0;32m    520\u001b[0m         \u001b[0mdtype\u001b[0m\u001b[1;33m=\u001b[0m\u001b[0mdtype\u001b[0m\u001b[1;33m,\u001b[0m\u001b[1;33m\u001b[0m\u001b[1;33m\u001b[0m\u001b[0m\n\u001b[1;32m--> 521\u001b[1;33m         \u001b[0mmethod\u001b[0m\u001b[1;33m=\u001b[0m\u001b[0mmethod\u001b[0m\u001b[1;33m,\u001b[0m\u001b[1;33m\u001b[0m\u001b[1;33m\u001b[0m\u001b[0m\n\u001b[0m\u001b[0;32m    522\u001b[0m     )\n\u001b[0;32m    523\u001b[0m \u001b[1;33m\u001b[0m\u001b[0m\n",
      "\u001b[1;32m~\\anaconda3\\envs\\PythonData\\lib\\site-packages\\pandas\\io\\sql.py\u001b[0m in \u001b[0;36mto_sql\u001b[1;34m(self, frame, name, if_exists, index, index_label, schema, chunksize, dtype, method)\u001b[0m\n\u001b[0;32m   1315\u001b[0m         )\n\u001b[0;32m   1316\u001b[0m         \u001b[0mtable\u001b[0m\u001b[1;33m.\u001b[0m\u001b[0mcreate\u001b[0m\u001b[1;33m(\u001b[0m\u001b[1;33m)\u001b[0m\u001b[1;33m\u001b[0m\u001b[1;33m\u001b[0m\u001b[0m\n\u001b[1;32m-> 1317\u001b[1;33m         \u001b[0mtable\u001b[0m\u001b[1;33m.\u001b[0m\u001b[0minsert\u001b[0m\u001b[1;33m(\u001b[0m\u001b[0mchunksize\u001b[0m\u001b[1;33m,\u001b[0m \u001b[0mmethod\u001b[0m\u001b[1;33m=\u001b[0m\u001b[0mmethod\u001b[0m\u001b[1;33m)\u001b[0m\u001b[1;33m\u001b[0m\u001b[1;33m\u001b[0m\u001b[0m\n\u001b[0m\u001b[0;32m   1318\u001b[0m         \u001b[1;32mif\u001b[0m \u001b[1;32mnot\u001b[0m \u001b[0mname\u001b[0m\u001b[1;33m.\u001b[0m\u001b[0misdigit\u001b[0m\u001b[1;33m(\u001b[0m\u001b[1;33m)\u001b[0m \u001b[1;32mand\u001b[0m \u001b[1;32mnot\u001b[0m \u001b[0mname\u001b[0m\u001b[1;33m.\u001b[0m\u001b[0mislower\u001b[0m\u001b[1;33m(\u001b[0m\u001b[1;33m)\u001b[0m\u001b[1;33m:\u001b[0m\u001b[1;33m\u001b[0m\u001b[1;33m\u001b[0m\u001b[0m\n\u001b[0;32m   1319\u001b[0m             \u001b[1;31m# check for potentially case sensitivity issues (GH7815)\u001b[0m\u001b[1;33m\u001b[0m\u001b[1;33m\u001b[0m\u001b[1;33m\u001b[0m\u001b[0m\n",
      "\u001b[1;32m~\\anaconda3\\envs\\PythonData\\lib\\site-packages\\pandas\\io\\sql.py\u001b[0m in \u001b[0;36minsert\u001b[1;34m(self, chunksize, method)\u001b[0m\n\u001b[0;32m    753\u001b[0m \u001b[1;33m\u001b[0m\u001b[0m\n\u001b[0;32m    754\u001b[0m                 \u001b[0mchunk_iter\u001b[0m \u001b[1;33m=\u001b[0m \u001b[0mzip\u001b[0m\u001b[1;33m(\u001b[0m\u001b[1;33m*\u001b[0m\u001b[1;33m[\u001b[0m\u001b[0marr\u001b[0m\u001b[1;33m[\u001b[0m\u001b[0mstart_i\u001b[0m\u001b[1;33m:\u001b[0m\u001b[0mend_i\u001b[0m\u001b[1;33m]\u001b[0m \u001b[1;32mfor\u001b[0m \u001b[0marr\u001b[0m \u001b[1;32min\u001b[0m \u001b[0mdata_list\u001b[0m\u001b[1;33m]\u001b[0m\u001b[1;33m)\u001b[0m\u001b[1;33m\u001b[0m\u001b[1;33m\u001b[0m\u001b[0m\n\u001b[1;32m--> 755\u001b[1;33m                 \u001b[0mexec_insert\u001b[0m\u001b[1;33m(\u001b[0m\u001b[0mconn\u001b[0m\u001b[1;33m,\u001b[0m \u001b[0mkeys\u001b[0m\u001b[1;33m,\u001b[0m \u001b[0mchunk_iter\u001b[0m\u001b[1;33m)\u001b[0m\u001b[1;33m\u001b[0m\u001b[1;33m\u001b[0m\u001b[0m\n\u001b[0m\u001b[0;32m    756\u001b[0m \u001b[1;33m\u001b[0m\u001b[0m\n\u001b[0;32m    757\u001b[0m     def _query_iterator(\n",
      "\u001b[1;32m~\\anaconda3\\envs\\PythonData\\lib\\site-packages\\pandas\\io\\sql.py\u001b[0m in \u001b[0;36m_execute_insert\u001b[1;34m(self, conn, keys, data_iter)\u001b[0m\n\u001b[0;32m    667\u001b[0m         \"\"\"\n\u001b[0;32m    668\u001b[0m         \u001b[0mdata\u001b[0m \u001b[1;33m=\u001b[0m \u001b[1;33m[\u001b[0m\u001b[0mdict\u001b[0m\u001b[1;33m(\u001b[0m\u001b[0mzip\u001b[0m\u001b[1;33m(\u001b[0m\u001b[0mkeys\u001b[0m\u001b[1;33m,\u001b[0m \u001b[0mrow\u001b[0m\u001b[1;33m)\u001b[0m\u001b[1;33m)\u001b[0m \u001b[1;32mfor\u001b[0m \u001b[0mrow\u001b[0m \u001b[1;32min\u001b[0m \u001b[0mdata_iter\u001b[0m\u001b[1;33m]\u001b[0m\u001b[1;33m\u001b[0m\u001b[1;33m\u001b[0m\u001b[0m\n\u001b[1;32m--> 669\u001b[1;33m         \u001b[0mconn\u001b[0m\u001b[1;33m.\u001b[0m\u001b[0mexecute\u001b[0m\u001b[1;33m(\u001b[0m\u001b[0mself\u001b[0m\u001b[1;33m.\u001b[0m\u001b[0mtable\u001b[0m\u001b[1;33m.\u001b[0m\u001b[0minsert\u001b[0m\u001b[1;33m(\u001b[0m\u001b[1;33m)\u001b[0m\u001b[1;33m,\u001b[0m \u001b[0mdata\u001b[0m\u001b[1;33m)\u001b[0m\u001b[1;33m\u001b[0m\u001b[1;33m\u001b[0m\u001b[0m\n\u001b[0m\u001b[0;32m    670\u001b[0m \u001b[1;33m\u001b[0m\u001b[0m\n\u001b[0;32m    671\u001b[0m     \u001b[1;32mdef\u001b[0m \u001b[0m_execute_insert_multi\u001b[0m\u001b[1;33m(\u001b[0m\u001b[0mself\u001b[0m\u001b[1;33m,\u001b[0m \u001b[0mconn\u001b[0m\u001b[1;33m,\u001b[0m \u001b[0mkeys\u001b[0m\u001b[1;33m,\u001b[0m \u001b[0mdata_iter\u001b[0m\u001b[1;33m)\u001b[0m\u001b[1;33m:\u001b[0m\u001b[1;33m\u001b[0m\u001b[1;33m\u001b[0m\u001b[0m\n",
      "\u001b[1;32m~\\anaconda3\\envs\\PythonData\\lib\\site-packages\\sqlalchemy\\engine\\base.py\u001b[0m in \u001b[0;36mexecute\u001b[1;34m(self, object_, *multiparams, **params)\u001b[0m\n\u001b[0;32m   1018\u001b[0m             )\n\u001b[0;32m   1019\u001b[0m         \u001b[1;32melse\u001b[0m\u001b[1;33m:\u001b[0m\u001b[1;33m\u001b[0m\u001b[1;33m\u001b[0m\u001b[0m\n\u001b[1;32m-> 1020\u001b[1;33m             \u001b[1;32mreturn\u001b[0m \u001b[0mmeth\u001b[0m\u001b[1;33m(\u001b[0m\u001b[0mself\u001b[0m\u001b[1;33m,\u001b[0m \u001b[0mmultiparams\u001b[0m\u001b[1;33m,\u001b[0m \u001b[0mparams\u001b[0m\u001b[1;33m)\u001b[0m\u001b[1;33m\u001b[0m\u001b[1;33m\u001b[0m\u001b[0m\n\u001b[0m\u001b[0;32m   1021\u001b[0m \u001b[1;33m\u001b[0m\u001b[0m\n\u001b[0;32m   1022\u001b[0m     \u001b[1;32mdef\u001b[0m \u001b[0m_execute_function\u001b[0m\u001b[1;33m(\u001b[0m\u001b[0mself\u001b[0m\u001b[1;33m,\u001b[0m \u001b[0mfunc\u001b[0m\u001b[1;33m,\u001b[0m \u001b[0mmultiparams\u001b[0m\u001b[1;33m,\u001b[0m \u001b[0mparams\u001b[0m\u001b[1;33m)\u001b[0m\u001b[1;33m:\u001b[0m\u001b[1;33m\u001b[0m\u001b[1;33m\u001b[0m\u001b[0m\n",
      "\u001b[1;32m~\\anaconda3\\envs\\PythonData\\lib\\site-packages\\sqlalchemy\\sql\\elements.py\u001b[0m in \u001b[0;36m_execute_on_connection\u001b[1;34m(self, connection, multiparams, params)\u001b[0m\n\u001b[0;32m    296\u001b[0m     \u001b[1;32mdef\u001b[0m \u001b[0m_execute_on_connection\u001b[0m\u001b[1;33m(\u001b[0m\u001b[0mself\u001b[0m\u001b[1;33m,\u001b[0m \u001b[0mconnection\u001b[0m\u001b[1;33m,\u001b[0m \u001b[0mmultiparams\u001b[0m\u001b[1;33m,\u001b[0m \u001b[0mparams\u001b[0m\u001b[1;33m)\u001b[0m\u001b[1;33m:\u001b[0m\u001b[1;33m\u001b[0m\u001b[1;33m\u001b[0m\u001b[0m\n\u001b[0;32m    297\u001b[0m         \u001b[1;32mif\u001b[0m \u001b[0mself\u001b[0m\u001b[1;33m.\u001b[0m\u001b[0msupports_execution\u001b[0m\u001b[1;33m:\u001b[0m\u001b[1;33m\u001b[0m\u001b[1;33m\u001b[0m\u001b[0m\n\u001b[1;32m--> 298\u001b[1;33m             \u001b[1;32mreturn\u001b[0m \u001b[0mconnection\u001b[0m\u001b[1;33m.\u001b[0m\u001b[0m_execute_clauseelement\u001b[0m\u001b[1;33m(\u001b[0m\u001b[0mself\u001b[0m\u001b[1;33m,\u001b[0m \u001b[0mmultiparams\u001b[0m\u001b[1;33m,\u001b[0m \u001b[0mparams\u001b[0m\u001b[1;33m)\u001b[0m\u001b[1;33m\u001b[0m\u001b[1;33m\u001b[0m\u001b[0m\n\u001b[0m\u001b[0;32m    299\u001b[0m         \u001b[1;32melse\u001b[0m\u001b[1;33m:\u001b[0m\u001b[1;33m\u001b[0m\u001b[1;33m\u001b[0m\u001b[0m\n\u001b[0;32m    300\u001b[0m             \u001b[1;32mraise\u001b[0m \u001b[0mexc\u001b[0m\u001b[1;33m.\u001b[0m\u001b[0mObjectNotExecutableError\u001b[0m\u001b[1;33m(\u001b[0m\u001b[0mself\u001b[0m\u001b[1;33m)\u001b[0m\u001b[1;33m\u001b[0m\u001b[1;33m\u001b[0m\u001b[0m\n",
      "\u001b[1;32m~\\anaconda3\\envs\\PythonData\\lib\\site-packages\\sqlalchemy\\engine\\base.py\u001b[0m in \u001b[0;36m_execute_clauseelement\u001b[1;34m(self, elem, multiparams, params)\u001b[0m\n\u001b[0;32m   1137\u001b[0m             \u001b[0mdistilled_params\u001b[0m\u001b[1;33m,\u001b[0m\u001b[1;33m\u001b[0m\u001b[1;33m\u001b[0m\u001b[0m\n\u001b[0;32m   1138\u001b[0m             \u001b[0mcompiled_sql\u001b[0m\u001b[1;33m,\u001b[0m\u001b[1;33m\u001b[0m\u001b[1;33m\u001b[0m\u001b[0m\n\u001b[1;32m-> 1139\u001b[1;33m             \u001b[0mdistilled_params\u001b[0m\u001b[1;33m,\u001b[0m\u001b[1;33m\u001b[0m\u001b[1;33m\u001b[0m\u001b[0m\n\u001b[0m\u001b[0;32m   1140\u001b[0m         )\n\u001b[0;32m   1141\u001b[0m         \u001b[1;32mif\u001b[0m \u001b[0mself\u001b[0m\u001b[1;33m.\u001b[0m\u001b[0m_has_events\u001b[0m \u001b[1;32mor\u001b[0m \u001b[0mself\u001b[0m\u001b[1;33m.\u001b[0m\u001b[0mengine\u001b[0m\u001b[1;33m.\u001b[0m\u001b[0m_has_events\u001b[0m\u001b[1;33m:\u001b[0m\u001b[1;33m\u001b[0m\u001b[1;33m\u001b[0m\u001b[0m\n",
      "\u001b[1;32m~\\anaconda3\\envs\\PythonData\\lib\\site-packages\\sqlalchemy\\engine\\base.py\u001b[0m in \u001b[0;36m_execute_context\u001b[1;34m(self, dialect, constructor, statement, parameters, *args)\u001b[0m\n\u001b[0;32m   1322\u001b[0m         \u001b[1;32mexcept\u001b[0m \u001b[0mBaseException\u001b[0m \u001b[1;32mas\u001b[0m \u001b[0me\u001b[0m\u001b[1;33m:\u001b[0m\u001b[1;33m\u001b[0m\u001b[1;33m\u001b[0m\u001b[0m\n\u001b[0;32m   1323\u001b[0m             self._handle_dbapi_exception(\n\u001b[1;32m-> 1324\u001b[1;33m                 \u001b[0me\u001b[0m\u001b[1;33m,\u001b[0m \u001b[0mstatement\u001b[0m\u001b[1;33m,\u001b[0m \u001b[0mparameters\u001b[0m\u001b[1;33m,\u001b[0m \u001b[0mcursor\u001b[0m\u001b[1;33m,\u001b[0m \u001b[0mcontext\u001b[0m\u001b[1;33m\u001b[0m\u001b[1;33m\u001b[0m\u001b[0m\n\u001b[0m\u001b[0;32m   1325\u001b[0m             )\n\u001b[0;32m   1326\u001b[0m \u001b[1;33m\u001b[0m\u001b[0m\n",
      "\u001b[1;32m~\\anaconda3\\envs\\PythonData\\lib\\site-packages\\sqlalchemy\\engine\\base.py\u001b[0m in \u001b[0;36m_handle_dbapi_exception\u001b[1;34m(self, e, statement, parameters, cursor, context)\u001b[0m\n\u001b[0;32m   1516\u001b[0m             \u001b[1;32melif\u001b[0m \u001b[0mshould_wrap\u001b[0m\u001b[1;33m:\u001b[0m\u001b[1;33m\u001b[0m\u001b[1;33m\u001b[0m\u001b[0m\n\u001b[0;32m   1517\u001b[0m                 util.raise_(\n\u001b[1;32m-> 1518\u001b[1;33m                     \u001b[0msqlalchemy_exception\u001b[0m\u001b[1;33m,\u001b[0m \u001b[0mwith_traceback\u001b[0m\u001b[1;33m=\u001b[0m\u001b[0mexc_info\u001b[0m\u001b[1;33m[\u001b[0m\u001b[1;36m2\u001b[0m\u001b[1;33m]\u001b[0m\u001b[1;33m,\u001b[0m \u001b[0mfrom_\u001b[0m\u001b[1;33m=\u001b[0m\u001b[0me\u001b[0m\u001b[1;33m\u001b[0m\u001b[1;33m\u001b[0m\u001b[0m\n\u001b[0m\u001b[0;32m   1519\u001b[0m                 )\n\u001b[0;32m   1520\u001b[0m             \u001b[1;32melse\u001b[0m\u001b[1;33m:\u001b[0m\u001b[1;33m\u001b[0m\u001b[1;33m\u001b[0m\u001b[0m\n",
      "\u001b[1;32m~\\anaconda3\\envs\\PythonData\\lib\\site-packages\\sqlalchemy\\util\\compat.py\u001b[0m in \u001b[0;36mraise_\u001b[1;34m(***failed resolving arguments***)\u001b[0m\n\u001b[0;32m    176\u001b[0m \u001b[1;33m\u001b[0m\u001b[0m\n\u001b[0;32m    177\u001b[0m         \u001b[1;32mtry\u001b[0m\u001b[1;33m:\u001b[0m\u001b[1;33m\u001b[0m\u001b[1;33m\u001b[0m\u001b[0m\n\u001b[1;32m--> 178\u001b[1;33m             \u001b[1;32mraise\u001b[0m \u001b[0mexception\u001b[0m\u001b[1;33m\u001b[0m\u001b[1;33m\u001b[0m\u001b[0m\n\u001b[0m\u001b[0;32m    179\u001b[0m         \u001b[1;32mfinally\u001b[0m\u001b[1;33m:\u001b[0m\u001b[1;33m\u001b[0m\u001b[1;33m\u001b[0m\u001b[0m\n\u001b[0;32m    180\u001b[0m             \u001b[1;31m# credit to\u001b[0m\u001b[1;33m\u001b[0m\u001b[1;33m\u001b[0m\u001b[1;33m\u001b[0m\u001b[0m\n",
      "\u001b[1;32m~\\anaconda3\\envs\\PythonData\\lib\\site-packages\\sqlalchemy\\engine\\base.py\u001b[0m in \u001b[0;36m_execute_context\u001b[1;34m(self, dialect, constructor, statement, parameters, *args)\u001b[0m\n\u001b[0;32m   1262\u001b[0m                 \u001b[1;32mif\u001b[0m \u001b[1;32mnot\u001b[0m \u001b[0mevt_handled\u001b[0m\u001b[1;33m:\u001b[0m\u001b[1;33m\u001b[0m\u001b[1;33m\u001b[0m\u001b[0m\n\u001b[0;32m   1263\u001b[0m                     self.dialect.do_executemany(\n\u001b[1;32m-> 1264\u001b[1;33m                         \u001b[0mcursor\u001b[0m\u001b[1;33m,\u001b[0m \u001b[0mstatement\u001b[0m\u001b[1;33m,\u001b[0m \u001b[0mparameters\u001b[0m\u001b[1;33m,\u001b[0m \u001b[0mcontext\u001b[0m\u001b[1;33m\u001b[0m\u001b[1;33m\u001b[0m\u001b[0m\n\u001b[0m\u001b[0;32m   1265\u001b[0m                     )\n\u001b[0;32m   1266\u001b[0m             \u001b[1;32melif\u001b[0m \u001b[1;32mnot\u001b[0m \u001b[0mparameters\u001b[0m \u001b[1;32mand\u001b[0m \u001b[0mcontext\u001b[0m\u001b[1;33m.\u001b[0m\u001b[0mno_parameters\u001b[0m\u001b[1;33m:\u001b[0m\u001b[1;33m\u001b[0m\u001b[1;33m\u001b[0m\u001b[0m\n",
      "\u001b[1;32m~\\anaconda3\\envs\\PythonData\\lib\\site-packages\\sqlalchemy\\dialects\\postgresql\\psycopg2.py\u001b[0m in \u001b[0;36mdo_executemany\u001b[1;34m(self, cursor, statement, parameters, context)\u001b[0m\n\u001b[0;32m    871\u001b[0m     \u001b[1;32mdef\u001b[0m \u001b[0mdo_executemany\u001b[0m\u001b[1;33m(\u001b[0m\u001b[0mself\u001b[0m\u001b[1;33m,\u001b[0m \u001b[0mcursor\u001b[0m\u001b[1;33m,\u001b[0m \u001b[0mstatement\u001b[0m\u001b[1;33m,\u001b[0m \u001b[0mparameters\u001b[0m\u001b[1;33m,\u001b[0m \u001b[0mcontext\u001b[0m\u001b[1;33m=\u001b[0m\u001b[1;32mNone\u001b[0m\u001b[1;33m)\u001b[0m\u001b[1;33m:\u001b[0m\u001b[1;33m\u001b[0m\u001b[1;33m\u001b[0m\u001b[0m\n\u001b[0;32m    872\u001b[0m         \u001b[1;32mif\u001b[0m \u001b[0mself\u001b[0m\u001b[1;33m.\u001b[0m\u001b[0mexecutemany_mode\u001b[0m \u001b[1;32mis\u001b[0m \u001b[0mEXECUTEMANY_DEFAULT\u001b[0m\u001b[1;33m:\u001b[0m\u001b[1;33m\u001b[0m\u001b[1;33m\u001b[0m\u001b[0m\n\u001b[1;32m--> 873\u001b[1;33m             \u001b[0mcursor\u001b[0m\u001b[1;33m.\u001b[0m\u001b[0mexecutemany\u001b[0m\u001b[1;33m(\u001b[0m\u001b[0mstatement\u001b[0m\u001b[1;33m,\u001b[0m \u001b[0mparameters\u001b[0m\u001b[1;33m)\u001b[0m\u001b[1;33m\u001b[0m\u001b[1;33m\u001b[0m\u001b[0m\n\u001b[0m\u001b[0;32m    874\u001b[0m             \u001b[1;32mreturn\u001b[0m\u001b[1;33m\u001b[0m\u001b[1;33m\u001b[0m\u001b[0m\n\u001b[0;32m    875\u001b[0m \u001b[1;33m\u001b[0m\u001b[0m\n",
      "\u001b[1;31mProgrammingError\u001b[0m: (psycopg2.errors.UndefinedColumn) column \"Country\" of relation \"winexl\" does not exist\nLINE 1: INSERT INTO winexl (\"Country\", \"Points\", \"Price\", \"Province\"...\n                            ^\n\n[SQL: INSERT INTO winexl (\"Country\", \"Points\", \"Price\", \"Province\", \"Title\", \"Variety\", \"Winery\") VALUES (%(Country)s, %(Points)s, %(Price)s, %(Province)s, %(Title)s, %(Variety)s, %(Winery)s)]\n[parameters: ({'Country': 'US', 'Points': 89, 'Price': 170.0, 'Province': 'California', 'Title': 'Sebastiani 1987 Cherryblock Cabernet Sauvignon (Sonoma Valley)', 'Variety': 'Cabernet Sauvignon', 'Winery': 'Sebastiani'}, {'Country': 'US', 'Points': 82, 'Price': 13.0, 'Province': 'California', 'Title': 'Gan Eden 1994 Chardonnay (Sonoma County)', 'Variety': 'Chardonnay', 'Winery': 'Gan Eden'}, {'Country': 'South Africa', 'Points': 87, 'Price': 17.0, 'Province': 'Stellenbosch', 'Title': 'Middelvlei 1995 Cabernet Sauvignon (Stellenbosch)', 'Variety': 'Cabernet Sauvignon', 'Winery': 'Middelvlei'}, {'Country': 'US', 'Points': 83, 'Price': 22.0, 'Province': 'California', 'Title': 'Meridian 1996 Coastal Reserve Cabernet Sauvignon (California)', 'Variety': 'Cabernet Sauvignon', 'Winery': 'Meridian'}, {'Country': 'US', 'Points': 84, 'Price': 29.0, 'Province': 'Washington', 'Title': 'Covey Run 1996 Whiskey Canyon Vyd Cabernet Sauvignon (Yakima Valley)', 'Variety': 'Cabernet Sauvignon', 'Winery': 'Covey Run'}, {'Country': 'US', 'Points': 88, 'Price': 35.0, 'Province': 'California', 'Title': \"Château Souverain 1996 Winemaker's Reserve Cabernet Sauvignon (Sonoma County)\", 'Variety': 'Cabernet Sauvignon', 'Winery': 'Château Souverain'}, {'Country': 'US', 'Points': 87, 'Price': 24.0, 'Province': 'California', 'Title': 'Kunde 1996 Drummond Vineyard Cabernet Sauvignon (Sonoma Valley)', 'Variety': 'Cabernet Sauvignon', 'Winery': 'Kunde'}, {'Country': 'US', 'Points': 90, 'Price': 60.0, 'Province': 'California', 'Title': 'Bell 1997 Baritelle Vyd Cabernet Sauvignon (Rutherford)', 'Variety': 'Cabernet Sauvignon', 'Winery': 'Bell'}  ... displaying 10 of 8400 total bound parameter sets ...  {'Country': 'US', 'Points': 86, 'Price': 16.0, 'Province': 'New York', 'Title': 'Hosmer 2016 Estate Winery Pinot Gris (Cayuga Lake)', 'Variety': 'Pinot Gris', 'Winery': 'Hosmer'}, {'Country': 'Chile', 'Points': 87, 'Price': 15.0, 'Province': 'Casablanca Valley', 'Title': 'Viña Casablanca 2016 Nimbus Single Vineyard Sauvignon Blanc (Casablanca Valley)', 'Variety': 'Sauvignon Blanc', 'Winery': 'Viña Casablanca'})]\n(Background on this error at: http://sqlalche.me/e/f405)"
     ]
    }
   ],
   "source": [
    " winexl_df.to_sql(name='winexl', con=engine, if_exists='append', index=False)"
   ]
  },
  {
   "cell_type": "markdown",
   "metadata": {},
   "source": [
    "###  Check for tables"
   ]
  },
  {
   "cell_type": "code",
   "execution_count": 87,
   "metadata": {},
   "outputs": [],
   "source": [
    "new_winemag_df.to_sql(name='newwinemag', con=engine, if_exists='append', index=False)"
   ]
  },
  {
   "cell_type": "markdown",
   "metadata": {},
   "source": [
    "### Use pandas to load csv converted DataFrame into database"
   ]
  },
  {
   "cell_type": "code",
   "execution_count": 88,
   "metadata": {},
   "outputs": [
    {
     "data": {
      "text/html": [
       "<div>\n",
       "<style scoped>\n",
       "    .dataframe tbody tr th:only-of-type {\n",
       "        vertical-align: middle;\n",
       "    }\n",
       "\n",
       "    .dataframe tbody tr th {\n",
       "        vertical-align: top;\n",
       "    }\n",
       "\n",
       "    .dataframe thead th {\n",
       "        text-align: right;\n",
       "    }\n",
       "</style>\n",
       "<table border=\"1\" class=\"dataframe\">\n",
       "  <thead>\n",
       "    <tr style=\"text-align: right;\">\n",
       "      <th></th>\n",
       "      <th>country</th>\n",
       "      <th>points</th>\n",
       "      <th>price</th>\n",
       "      <th>province</th>\n",
       "      <th>title</th>\n",
       "      <th>variety</th>\n",
       "      <th>winery</th>\n",
       "    </tr>\n",
       "  </thead>\n",
       "  <tbody>\n",
       "  </tbody>\n",
       "</table>\n",
       "</div>"
      ],
      "text/plain": [
       "Empty DataFrame\n",
       "Columns: [country, points, price, province, title, variety, winery]\n",
       "Index: []"
      ]
     },
     "execution_count": 88,
     "metadata": {},
     "output_type": "execute_result"
    }
   ],
   "source": [
    "pd.read_sql_query('select * from winexl', con=engine).head()"
   ]
  },
  {
   "cell_type": "markdown",
   "metadata": {},
   "source": [
    "### Confirm data has been added by querying the wines table"
   ]
  },
  {
   "cell_type": "code",
   "execution_count": 89,
   "metadata": {},
   "outputs": [
    {
     "data": {
      "text/html": [
       "<div>\n",
       "<style scoped>\n",
       "    .dataframe tbody tr th:only-of-type {\n",
       "        vertical-align: middle;\n",
       "    }\n",
       "\n",
       "    .dataframe tbody tr th {\n",
       "        vertical-align: top;\n",
       "    }\n",
       "\n",
       "    .dataframe thead th {\n",
       "        text-align: right;\n",
       "    }\n",
       "</style>\n",
       "<table border=\"1\" class=\"dataframe\">\n",
       "  <thead>\n",
       "    <tr style=\"text-align: right;\">\n",
       "      <th></th>\n",
       "      <th>country</th>\n",
       "      <th>description</th>\n",
       "      <th>points</th>\n",
       "      <th>price</th>\n",
       "      <th>province</th>\n",
       "      <th>variety</th>\n",
       "      <th>winery</th>\n",
       "    </tr>\n",
       "  </thead>\n",
       "  <tbody>\n",
       "    <tr>\n",
       "      <th>0</th>\n",
       "      <td>US</td>\n",
       "      <td>The nose on this single-vineyard wine from a s...</td>\n",
       "      <td>91</td>\n",
       "      <td>2013.0</td>\n",
       "      <td>California</td>\n",
       "      <td>Chardonnay</td>\n",
       "      <td>Blair</td>\n",
       "    </tr>\n",
       "    <tr>\n",
       "      <th>1</th>\n",
       "      <td>France</td>\n",
       "      <td>A wine that has created its own universe. It h...</td>\n",
       "      <td>100</td>\n",
       "      <td>1400.0</td>\n",
       "      <td>Champagne</td>\n",
       "      <td>Chardonnay</td>\n",
       "      <td>Krug</td>\n",
       "    </tr>\n",
       "    <tr>\n",
       "      <th>2</th>\n",
       "      <td>France</td>\n",
       "      <td>A wine that has created its own universe. It h...</td>\n",
       "      <td>100</td>\n",
       "      <td>1400.0</td>\n",
       "      <td>Champagne</td>\n",
       "      <td>Chardonnay</td>\n",
       "      <td>Krug</td>\n",
       "    </tr>\n",
       "    <tr>\n",
       "      <th>3</th>\n",
       "      <td>France</td>\n",
       "      <td>A wine that has created its own universe. It h...</td>\n",
       "      <td>100</td>\n",
       "      <td>1400.0</td>\n",
       "      <td>Champagne</td>\n",
       "      <td>Chardonnay</td>\n",
       "      <td>Krug</td>\n",
       "    </tr>\n",
       "    <tr>\n",
       "      <th>4</th>\n",
       "      <td>France</td>\n",
       "      <td>From arguably the finest white wine vineyard i...</td>\n",
       "      <td>98</td>\n",
       "      <td>757.0</td>\n",
       "      <td>Burgundy</td>\n",
       "      <td>Chardonnay</td>\n",
       "      <td>Bouchard Père &amp; Fils</td>\n",
       "    </tr>\n",
       "  </tbody>\n",
       "</table>\n",
       "</div>"
      ],
      "text/plain": [
       "  country                                        description points   price  \\\n",
       "0      US  The nose on this single-vineyard wine from a s...     91  2013.0   \n",
       "1  France  A wine that has created its own universe. It h...    100  1400.0   \n",
       "2  France  A wine that has created its own universe. It h...    100  1400.0   \n",
       "3  France  A wine that has created its own universe. It h...    100  1400.0   \n",
       "4  France  From arguably the finest white wine vineyard i...     98   757.0   \n",
       "\n",
       "     province     variety                winery  \n",
       "0  California  Chardonnay                 Blair  \n",
       "1   Champagne  Chardonnay                  Krug  \n",
       "2   Champagne  Chardonnay                  Krug  \n",
       "3   Champagne  Chardonnay                  Krug  \n",
       "4    Burgundy  Chardonnay  Bouchard Père & Fils  "
      ]
     },
     "execution_count": 89,
     "metadata": {},
     "output_type": "execute_result"
    }
   ],
   "source": [
    "pd.read_sql_query('select * from newwinemag', con=engine).head()"
   ]
  },
  {
   "cell_type": "code",
   "execution_count": null,
   "metadata": {},
   "outputs": [],
   "source": []
  }
 ],
 "metadata": {
  "kernelspec": {
   "display_name": "Python [conda env:PythonData]",
   "language": "python",
   "name": "conda-env-PythonData-py"
  },
  "language_info": {
   "codemirror_mode": {
    "name": "ipython",
    "version": 3
   },
   "file_extension": ".py",
   "mimetype": "text/x-python",
   "name": "python",
   "nbconvert_exporter": "python",
   "pygments_lexer": "ipython3",
   "version": "3.6.10"
  }
 },
 "nbformat": 4,
 "nbformat_minor": 4
}
